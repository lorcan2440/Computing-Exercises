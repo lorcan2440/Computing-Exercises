{
  "nbformat": 4,
  "nbformat_minor": 0,
  "metadata": {
    "kernelspec": {
      "display_name": "Python 3",
      "language": "python",
      "name": "python3"
    },
    "language_info": {
      "codemirror_mode": {
        "name": "ipython",
        "version": 3
      },
      "file_extension": ".py",
      "mimetype": "text/x-python",
      "name": "python",
      "nbconvert_exporter": "python",
      "pygments_lexer": "ipython3",
      "version": "3.8.5"
    },
    "colab": {
      "name": "Copy of 10 Exercises.ipynb",
      "provenance": [],
      "include_colab_link": true
    }
  },
  "cells": [
    {
      "cell_type": "markdown",
      "metadata": {
        "id": "view-in-github",
        "colab_type": "text"
      },
      "source": [
        "<a href=\"https://colab.research.google.com/github/lorcan2440/Computing-Exercises/blob/main/Copy_of_10_Exercises.ipynb\" target=\"_parent\"><img src=\"https://colab.research.google.com/assets/colab-badge.svg\" alt=\"Open In Colab\"/></a>"
      ]
    },
    {
      "cell_type": "markdown",
      "metadata": {
        "id": "8JN1Lwf-ayXA"
      },
      "source": [
        "## Exercise 10.1 (search)\n",
        "\n",
        "We want to find the largest and smallest values in a long list of numbers. Implement\n",
        "two algorithms, based on:\n",
        "\n",
        "1. Iterating over the list entries; and \n",
        "1. First applying a built-in sort operation to the list.\n",
        "\n",
        "Encapsulate each algorithm in a function. To create lists of numbers for testing use, for example:\n",
        "```python\n",
        "x = np.random.rand(1000)\n",
        "```"
      ]
    },
    {
      "cell_type": "markdown",
      "metadata": {
        "id": "Uu8d75nhayXB"
      },
      "source": [
        "### Solution\n",
        "\n",
        "We first create the list of random numbers"
      ]
    },
    {
      "cell_type": "code",
      "metadata": {
        "id": "z9oNrN1kayXC"
      },
      "source": [
        "import numpy as np\n",
        "x = np.random.rand(1000)"
      ],
      "execution_count": 2,
      "outputs": []
    },
    {
      "cell_type": "markdown",
      "metadata": {
        "id": "fPftAeLEayXF"
      },
      "source": [
        "#### Approach 1"
      ]
    },
    {
      "cell_type": "code",
      "metadata": {
        "deletable": false,
        "nbgrader": {
          "cell_type": "code",
          "checksum": "43178ff8d1756660a5dcafc73a085a11",
          "grade": false,
          "grade_id": "cell-78de0384c89f8cd3",
          "locked": false,
          "schema_version": 3,
          "solution": true
        },
        "id": "de1UIUJdayXF",
        "outputId": "aaf6000e-d994-48e9-86db-ef208ab0f6fe",
        "colab": {
          "base_uri": "https://localhost:8080/",
          "height": 35
        }
      },
      "source": [
        "def min_max1(x):\n",
        "    current_lowest = x[0]\n",
        "    current_highest = x[0]\n",
        "\n",
        "    for item in x:\n",
        "      if item < current_lowest:\n",
        "        current_lowest = item\n",
        "      if item > current_highest:\n",
        "        current_highest = item\n",
        "      \n",
        "    return current_lowest, current_highest\n",
        "    \n",
        "print(min_max1(x))"
      ],
      "execution_count": 4,
      "outputs": [
        {
          "output_type": "stream",
          "text": [
            "(0.00017335680721508595, 0.9986773013516871)\n"
          ],
          "name": "stdout"
        }
      ]
    },
    {
      "cell_type": "markdown",
      "metadata": {
        "id": "Xp7xb3RxayXI"
      },
      "source": [
        "#### Approach 2"
      ]
    },
    {
      "cell_type": "code",
      "metadata": {
        "deletable": false,
        "nbgrader": {
          "cell_type": "code",
          "checksum": "7e7695c3d6d4b78df21b7726c26d0d14",
          "grade": false,
          "grade_id": "cell-dfd666bf7428bcdc",
          "locked": false,
          "schema_version": 3,
          "solution": true
        },
        "id": "D06lR-srayXI",
        "outputId": "ce9c7e55-1d1e-49fe-8f14-6c881419940c",
        "colab": {
          "base_uri": "https://localhost:8080/",
          "height": 35
        }
      },
      "source": [
        "def min_max2(x):\n",
        "    return min(x), max(x)\n",
        "\n",
        "print(min_max2(x))"
      ],
      "execution_count": 5,
      "outputs": [
        {
          "output_type": "stream",
          "text": [
            "(0.00017335680721508595, 0.9986773013516871)\n"
          ],
          "name": "stdout"
        }
      ]
    },
    {
      "cell_type": "code",
      "metadata": {
        "deletable": false,
        "editable": false,
        "nbgrader": {
          "cell_type": "code",
          "checksum": "1fb0c38ddcfcd2759b42e913ab624f34",
          "grade": true,
          "grade_id": "cell-1fa6054c191acd87",
          "locked": true,
          "points": 0,
          "schema_version": 3,
          "solution": false
        },
        "id": "lzaw_jvMayXK"
      },
      "source": [
        "assert min_max1(x) == min_max2(x)"
      ],
      "execution_count": 6,
      "outputs": []
    },
    {
      "cell_type": "markdown",
      "metadata": {
        "id": "fKcFBUzfayXM"
      },
      "source": [
        "In practice, we would use the the NumPy function:"
      ]
    },
    {
      "cell_type": "code",
      "metadata": {
        "id": "4lTO4rjAayXN",
        "outputId": "8cbc0436-3945-4c5f-8b42-88825ffc6bf3",
        "colab": {
          "base_uri": "https://localhost:8080/",
          "height": 35
        }
      },
      "source": [
        "print(np.min(x), np.max(x))"
      ],
      "execution_count": 7,
      "outputs": [
        {
          "output_type": "stream",
          "text": [
            "0.00017335680721508595 0.9986773013516871\n"
          ],
          "name": "stdout"
        }
      ]
    },
    {
      "cell_type": "markdown",
      "metadata": {
        "id": "8zsjt0inayXP"
      },
      "source": [
        "## Exercise 10.2 (Newton's method for root finding)\n",
        "\n",
        "### Background\n",
        "\n",
        "Newton's method can be used to find a root $x$ of a function $f(x)$ such that\n",
        "$$\n",
        "f(x) = 0\n",
        "$$\n",
        "A Taylor series expansion of $f$ about $x_{i}$ reads:\n",
        "$$\n",
        "f(x_{i+1}) = f(x_{i}) + \\left. f^{\\prime} \\right|_{x_{i}} (x_{i+1} - x_{i}) +  O((x_{i+1} - x_{i})^{2})\n",
        "$$\n",
        "If we neglect the higher-order terms and set $f(x_{i+1})$ to zero, we have Newton's method:\n",
        "\\begin{align}\n",
        "x_{i + 1} &= - \\frac{f(x_{i})}{f^{\\prime}(x_{i})} + x_{i}\n",
        "\\\\\n",
        "x_{i} &\\leftarrow x_{i+1}\n",
        "\\end{align}\n",
        "In Newton's method, the above is applied iteratively until $\\left|f(x_{i + 1})\\right|$ is below a tolerance value."
      ]
    },
    {
      "cell_type": "markdown",
      "metadata": {
        "id": "IVKOXoe_ayXP"
      },
      "source": [
        "### Task\n",
        "\n",
        "Develop an implementation of Newton's method, with the following three functions in your implementation:\n",
        "```python\n",
        "def newton(f, df, x0, tol, max_it):\n",
        "    # Implement here\n",
        "    \n",
        "    return x1  # return root\n",
        "```\n",
        "where `x0` is the initial guess, `tol` is the stopping tolerance, `max_it` is the maximum number \n",
        "of iterations, and \n",
        "```python\n",
        "def f(x):\n",
        "    # Evaluate function at x and return value\n",
        "\n",
        "\n",
        "def df(x):\n",
        "    # Evaluate df/dx at x and return value\n",
        "\n",
        "```\n",
        "\n",
        "Your implementation should raise an exception if the maximum number of iterations (`max_it`)\n",
        "is exceeded.\n",
        "\n",
        "Use your program to find the roots of:\n",
        "$$\n",
        "f(x) = \\tan(x) - 2x\n",
        "$$\n",
        "between $-\\pi/2$ and $\\pi/2$. Plot $f(x)$ and $f^{\\prime}(x)$ on the same graph, \n",
        "and show the roots computed by Newton's method.\n",
        "\n",
        "Newton's method can be sensitive to the starting value. Make sure you find the root around $x = 1.2$. What happens if you start at $x = 0.9$? It may help to add a print statement in the iteration loop, showing $x$ and $f$ at each iteration.\n",
        "\n",
        "\n",
        "### Extension (optional)\n",
        "\n",
        "For a complicated function we might not know how to compute the derivative, or it may be very complicated\n",
        "to evaluate. Write a function that computes the *numerical derivative* of $f(x)$ by evaluating \n",
        "$(f(x + dx) - f(x - dx)) / (2dx)$, where $dx$ is small. How should you choose $dx$?"
      ]
    },
    {
      "cell_type": "markdown",
      "metadata": {
        "id": "LkR9YCI_ayXQ"
      },
      "source": [
        "### Solution\n",
        "\n",
        "We first implement a Newton solver function:"
      ]
    },
    {
      "cell_type": "code",
      "metadata": {
        "deletable": false,
        "nbgrader": {
          "cell_type": "code",
          "checksum": "290b4b5892bdeabd6ab6a0a33ecf8fc8",
          "grade": false,
          "grade_id": "cell-d67ac5bf99448637",
          "locked": false,
          "schema_version": 3,
          "solution": true
        },
        "id": "YSznD3pNayXQ"
      },
      "source": [
        "import numpy as np\n",
        "\n",
        "def newton(f, df, x, tol=1e-8, max_it=20):\n",
        "    \"\"\"Find root of equation defined by function f(x) where df(x) is\n",
        "    first derivative and x is the initial guess.Optional arguments tol \n",
        "    (tolerance) and max_it (maximum number of iterations)\"\"\"\n",
        "    \n",
        "    x_old = x\n",
        "    i = 0\n",
        "    while abs(f(x_old)) > tol and i < max_it:\n",
        "      x_new = x_old - f(x_old) / df(x_old)\n",
        "      x_old = x_new\n",
        "      i += 1\n",
        "    \n",
        "    if abs(f(x_old)) > tol and i == max_it:\n",
        "      raise RuntimeError('Newton\\'s method algorithm did not converge fast enough.')\n",
        "    else:\n",
        "      return x_old\n",
        "    "
      ],
      "execution_count": 32,
      "outputs": []
    },
    {
      "cell_type": "markdown",
      "metadata": {
        "id": "UwHadrU5ayXT"
      },
      "source": [
        "We now provide implementations of `f` and `df`, and find the roots:"
      ]
    },
    {
      "cell_type": "code",
      "metadata": {
        "deletable": false,
        "nbgrader": {
          "cell_type": "code",
          "checksum": "87ec2db5298cf3652d7a10b265e662f7",
          "grade": false,
          "grade_id": "cell-8b0ea0df543b1534",
          "locked": false,
          "schema_version": 3,
          "solution": true
        },
        "id": "PKI_MUYxayXT"
      },
      "source": [
        "import math\n",
        "\n",
        "def f(x):\n",
        "    return math.tan(x) - 2*x\n",
        "\n",
        "def df(x):\n",
        "    return 1/(math.cos(x))**2 - 2"
      ],
      "execution_count": 33,
      "outputs": []
    },
    {
      "cell_type": "code",
      "metadata": {
        "deletable": false,
        "nbgrader": {
          "cell_type": "code",
          "checksum": "0d29e7b229eb6d422be0a28492525534",
          "grade": false,
          "grade_id": "cell-8b0ea0df5fef43b1534",
          "locked": false,
          "schema_version": 3,
          "solution": true
        },
        "id": "WTFiWddBayXV",
        "outputId": "df3169d5-4f6e-4cd9-9586-28a2e5a824f6",
        "colab": {
          "base_uri": "https://localhost:8080/",
          "height": 35
        }
      },
      "source": [
        "newton(f, df, 1)"
      ],
      "execution_count": 34,
      "outputs": [
        {
          "output_type": "execute_result",
          "data": {
            "text/plain": [
              "1.1655611852078998"
            ]
          },
          "metadata": {
            "tags": []
          },
          "execution_count": 34
        }
      ]
    },
    {
      "cell_type": "markdown",
      "metadata": {
        "id": "-lKGozUgayXX"
      },
      "source": [
        "We can visualise the result:"
      ]
    },
    {
      "cell_type": "code",
      "metadata": {
        "deletable": false,
        "nbgrader": {
          "cell_type": "code",
          "checksum": "00bb88d2a24b4e1d531ee6e6d9eb61de",
          "grade": false,
          "grade_id": "cell-997c8b60a3053a38",
          "locked": false,
          "schema_version": 3,
          "solution": true
        },
        "id": "sq52FhnaayXX",
        "outputId": "c9d53961-6d3a-4036-d5f0-322adc9f0481",
        "colab": {
          "base_uri": "https://localhost:8080/",
          "height": 324
        }
      },
      "source": [
        "%matplotlib inline\n",
        "import matplotlib.pyplot as plt\n",
        "\n",
        "# Plot f and df/dx\n",
        "x = np.linspace(-1.5, 1.5, 100)\n",
        "plt.plot([x for x in [t/100 for t in range(-150, 150)]], [f(x) for x in [t/100 for t in range(-150, 150)]], label='$f(x)$')\n",
        "plt.plot([x for x in [t/100 for t in range(-150, 150)]], [df(x) for x in [t/100 for t in range(-150, 150)]], label=\"$f^{\\prime}(x)$\")\n",
        "plt.ylim(-12, 50)\n",
        "\n",
        "# Find some roots\n",
        "x_seeds = [x for x in [t/10 for t in range(-15, 15)]]\n",
        "print(x_seeds)\n",
        "roots = []\n",
        "for x_seed in x_seeds:\n",
        "  try:\n",
        "    roots.append(round(newton(f, df, x_seed, max_it = 20), 7))\n",
        "  except RuntimeError:\n",
        "    pass\n",
        "roots = list(set(roots))\n",
        "print(roots)\n",
        "\n",
        "# Add location of roots to plot\n",
        "for i in roots:\n",
        "  plt.plot(i, 0, marker = '.')\n",
        "\n",
        "plt.show()"
      ],
      "execution_count": 38,
      "outputs": [
        {
          "output_type": "stream",
          "text": [
            "[-1.5, -1.4, -1.3, -1.2, -1.1, -1.0, -0.9, -0.8, -0.7, -0.6, -0.5, -0.4, -0.3, -0.2, -0.1, 0.0, 0.1, 0.2, 0.3, 0.4, 0.5, 0.6, 0.7, 0.8, 0.9, 1.0, 1.1, 1.2, 1.3, 1.4]\n",
            "[-0.0, 1.1655612, -1.1655612]\n"
          ],
          "name": "stdout"
        },
        {
          "output_type": "display_data",
          "data": {
            "image/png": "[encoded data removed]",
            "text/plain": [
              "<Figure size 432x288 with 1 Axes>"
            ]
          },
          "metadata": {
            "tags": [],
            "needs_background": "light"
          }
        }
      ]
    },
    {
      "cell_type": "markdown",
      "metadata": {
        "id": "BGEk5JTAayXZ"
      },
      "source": [
        "For the extension, we can replace the function `df(x)` with a new version"
      ]
    },
    {
      "cell_type": "code",
      "metadata": {
        "deletable": false,
        "nbgrader": {
          "cell_type": "code",
          "checksum": "70a98780d957280ddaf074ca6a09f072",
          "grade": false,
          "grade_id": "cell-3d320bc0309566f1",
          "locked": false,
          "schema_version": 3,
          "solution": true
        },
        "id": "1y2mtz66ayXZ"
      },
      "source": [
        "def df(x):\n",
        "    # Try changing dx to 1e-15 or smaller\n",
        "    dx = 1e-5\n",
        "    return (f(x + dx) - f(x)) / dx"
      ],
      "execution_count": 60,
      "outputs": []
    },
    {
      "cell_type": "code",
      "metadata": {
        "deletable": false,
        "editable": false,
        "nbgrader": {
          "cell_type": "code",
          "checksum": "7f6d1a0aa1ff4f83b22e337760138a88",
          "grade": true,
          "grade_id": "cell-3d320bc0309566f1wew",
          "locked": true,
          "points": 0,
          "schema_version": 3,
          "solution": false
        },
        "id": "OQ97WntyayXb"
      },
      "source": [
        "# Find roots near -1.2, 0.1, and 1.2\n",
        "xroots = np.array((newton(f, df, -1.2),\n",
        "                   newton(f, df, 0.1),\n",
        "                   newton(f, df, 1.2)))\n",
        "assert np.isclose(xroots, [-1.16556119e+00, 2.08575213e-10, 1.16556119e+00]).all()"
      ],
      "execution_count": 61,
      "outputs": []
    },
    {
      "cell_type": "code",
      "metadata": {
        "deletable": false,
        "nbgrader": {
          "cell_type": "code",
          "checksum": "7d165c7a27493d0f47424dc7ded291c7",
          "grade": false,
          "grade_id": "cell-f6c6dafb16f9b2a8",
          "locked": false,
          "schema_version": 3,
          "solution": true
        },
        "id": "1i0UE1sUayXg",
        "outputId": "6aadaf93-ee94-4b2e-a206-12a4be15ef39",
        "colab": {
          "base_uri": "https://localhost:8080/",
          "height": 324
        }
      },
      "source": [
        "# Plot f, f' and roots\n",
        "\n",
        "x = np.linspace(-1.5, 1.5, 100)\n",
        "plt.plot([x for x in [t/100 for t in range(-150, 150)]], [f(x) for x in [t/100 for t in range(-150, 150)]], label='$f(x)$')\n",
        "plt.plot([x for x in [t/100 for t in range(-150, 150)]], [df(x) for x in [t/100 for t in range(-150, 150)]], label=\"$f^{\\prime}(x)$\")\n",
        "plt.ylim(-12, 50)\n",
        "\n",
        "x_seeds = [x for x in [t/10 for t in range(-15, 15)]]\n",
        "print(x_seeds)\n",
        "roots = []\n",
        "for x_seed in x_seeds:\n",
        "  try:\n",
        "    roots.append(round(newton(f, df, x_seed, max_it = 20), 7))\n",
        "  except RuntimeError:\n",
        "    pass\n",
        "roots = list(set(roots))\n",
        "print(roots)\n",
        "\n",
        "# Add location of roots to plot\n",
        "for i in roots:\n",
        "  plt.plot(i, 0, marker = '.')\n",
        "\n",
        "plt.show()"
      ],
      "execution_count": 63,
      "outputs": [
        {
          "output_type": "stream",
          "text": [
            "[-1.5, -1.4, -1.3, -1.2, -1.1, -1.0, -0.9, -0.8, -0.7, -0.6, -0.5, -0.4, -0.3, -0.2, -0.1, 0.0, 0.1, 0.2, 0.3, 0.4, 0.5, 0.6, 0.7, 0.8, 0.9, 1.0, 1.1, 1.2, 1.3, 1.4]\n",
            "[-0.0, 1.1655612, -1.1655612]\n"
          ],
          "name": "stdout"
        },
        {
          "output_type": "display_data",
          "data": {
            "image/png": "[encoded data removed]",
            "text/plain": [
              "<Figure size 432x288 with 1 Axes>"
            ]
          },
          "metadata": {
            "tags": [],
            "needs_background": "light"
          }
        }
      ]
    },
    {
      "cell_type": "markdown",
      "metadata": {
        "id": "zdS75LwpayXi"
      },
      "source": [
        "In practice, we could use the Newton function `scipy.optimize.newton` from SciPy (https://docs.scipy.org/doc/scipy/reference/generated/scipy.optimize.newton.html) rather than implementing our own function."
      ]
    },
    {
      "cell_type": "markdown",
      "metadata": {
        "id": "J9xt9JyJayXj"
      },
      "source": [
        "## Exercise 10.3 (optional, low pass image filter)\n",
        "\n",
        "Images files can be loaded and displayed with Matplotlib. An imported image is stored as a \n",
        "three-dimensional NumPy array of floats. The shape of the array is `[0:nx, 0:ny, 0:3]`. \n",
        "where `nx` is the number of pixels in the $x$-direction, `ny` is the number of pixels in the $y$-direction,\n",
        "and the third axis is for the colour component (RGB: red, green and blue) intensity. See https://matplotlib.org/users/image_tutorial.html for more background.\n",
        "\n",
        "Below we fetch an image and display it:"
      ]
    },
    {
      "cell_type": "code",
      "metadata": {
        "id": "3aeeccuAayXj",
        "outputId": "796184f5-06ca-4ebb-d68c-da201652eb3d",
        "colab": {
          "base_uri": "https://localhost:8080/",
          "height": 304
        }
      },
      "source": [
        "%matplotlib inline\n",
        "import matplotlib.pyplot as plt\n",
        "import matplotlib.image as mpimg\n",
        "\n",
        "# Import image\n",
        "img = mpimg.imread('https://raw.githubusercontent.com/matplotlib/matplotlib.github.com/master/_images/stinkbug.png')\n",
        "\n",
        "# Check type and shape\n",
        "print(type(img))\n",
        "print(\"Image array shape: {}\".format(img.shape))\n",
        "\n",
        "# Display image\n",
        "plt.imshow(img);"
      ],
      "execution_count": 68,
      "outputs": [
        {
          "output_type": "stream",
          "text": [
            "<class 'numpy.ndarray'>\n",
            "Image array shape: (375, 500, 3)\n"
          ],
          "name": "stdout"
        },
        {
          "output_type": "display_data",
          "data": {
            "image/png": "[encoded data removed]",
            "text/plain": [
              "<Figure size 432x288 with 1 Axes>"
            ]
          },
          "metadata": {
            "tags": [],
            "needs_background": "light"
          }
        }
      ]
    },
    {
      "cell_type": "markdown",
      "metadata": {
        "id": "0-VMVvfdayXl"
      },
      "source": [
        "The task is to write a *function* that applies a particular low-pass filter algorithm to an image array \n",
        "and  returns the  filtered image. With this particular filter, the value of a pixel in the filtered image \n",
        "is equal to the average value of the four neighbouring pixels in the original image. For the `[i, j, :]` pixel, \n",
        "the neighbours are  `[i, j+1, :]`, `[i, j-1, :]`, `[i+1, j, :]` and  `[i-1, j, :]`. \n",
        "\n",
        "Run the filter algorithm multiple times on the above image to explore the effect of the filter.\n",
        "\n",
        "*Hint*: To create a NumPy array of zeros, `B`,  with the same shape as array `A`, use:\n",
        "```python\n",
        "import numpy as np\n",
        "B = np.zeros_like(A)\n",
        "```"
      ]
    },
    {
      "cell_type": "code",
      "metadata": {
        "deletable": false,
        "nbgrader": {
          "cell_type": "code",
          "checksum": "824f26622746162aad76ca3791f94305",
          "grade": false,
          "grade_id": "cell-8bc3a81c6142b437",
          "locked": false,
          "schema_version": 3,
          "solution": true
        },
        "id": "g9VnrasDayXl",
        "outputId": "e17bbeca-a64f-4c4b-d6e4-d84b0227e890",
        "colab": {
          "base_uri": "https://localhost:8080/",
          "height": 287
        }
      },
      "source": [
        "import numpy as np\n",
        "zeroes = np.zeros_like(img)\n",
        "filtered_image = np.array([[[sum([img[row][column + 1][colour],\n",
        "                      img[row][column - 1][colour],\n",
        "                      img[row + 1][column][colour],\n",
        "                      img[row - 1][column][colour]]) / 4 for colour in range(3)] for column in range(1, img.shape[1] - 1)] for row in range(1, img.shape[0] - 1)])\n",
        "\n",
        "plt.imshow(filtered_image)\n",
        "\n",
        "\n"
      ],
      "execution_count": 72,
      "outputs": [
        {
          "output_type": "execute_result",
          "data": {
            "text/plain": [
              "<matplotlib.image.AxesImage at 0x7f6261208710>"
            ]
          },
          "metadata": {
            "tags": []
          },
          "execution_count": 72
        },
        {
          "output_type": "display_data",
          "data": {
            "image/png": "[encoded data removed]",
            "text/plain": [
              "<Figure size 432x288 with 1 Axes>"
            ]
          },
          "metadata": {
            "tags": [],
            "needs_background": "light"
          }
        }
      ]
    }
  ]
}