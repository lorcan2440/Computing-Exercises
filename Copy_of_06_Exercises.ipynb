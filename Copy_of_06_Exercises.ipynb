{
  "nbformat": 4,
  "nbformat_minor": 0,
  "metadata": {
    "kernelspec": {
      "display_name": "Python 3",
      "language": "python",
      "name": "python3"
    },
    "language_info": {
      "codemirror_mode": {
        "name": "ipython",
        "version": 3
      },
      "file_extension": ".py",
      "mimetype": "text/x-python",
      "name": "python",
      "nbconvert_exporter": "python",
      "pygments_lexer": "ipython3",
      "version": "3.8.5"
    },
    "colab": {
      "name": "Copy of 06 Exercises.ipynb",
      "provenance": [],
      "include_colab_link": true
    }
  },
  "cells": [
    {
      "cell_type": "markdown",
      "metadata": {
        "id": "view-in-github",
        "colab_type": "text"
      },
      "source": [
        "<a href=\"https://colab.research.google.com/github/lorcan2440/Computing-Exercises/blob/main/Copy_of_06_Exercises.ipynb\" target=\"_parent\"><img src=\"https://colab.research.google.com/assets/colab-badge.svg\" alt=\"Open In Colab\"/></a>"
      ]
    },
    {
      "cell_type": "markdown",
      "metadata": {
        "deletable": false,
        "editable": false,
        "nbgrader": {
          "cell_type": "markdown",
          "checksum": "8969a6543eebd1c7db89a71bb75e61ee",
          "grade": false,
          "grade_id": "cell-7b3313f25bceb7a2",
          "locked": true,
          "schema_version": 3,
          "solution": false
        },
        "id": "BUYij6v_bONp"
      },
      "source": [
        "## Exercise 06.1 (selecting and passing data structures)\n",
        "\n",
        "The task in Exercise 04 for computing the area of a triangle involved a function with six arguments ($x$ and $y$ components of each vertex). With six arguments, the likelihood of a user passing arguments in the wrong order is high. \n",
        "\n",
        "Use an appropriate data structure, e.g. a `list`, `tuple`, `dict`, etc,  to develop a new version of the function with a simpler interface (the interface is the arguments that are passed to the function). Add appropriate checks inside your function to validate the input data."
      ]
    },
    {
      "cell_type": "code",
      "metadata": {
        "deletable": false,
        "nbgrader": {
          "cell_type": "code",
          "checksum": "93c53f411edb621595bc865f6c79cbaf",
          "grade": false,
          "grade_id": "cell-50c4566d7bcbffaf",
          "locked": false,
          "schema_version": 3,
          "solution": true
        },
        "id": "JDidiT7vbONq",
        "outputId": "979e958a-9b57-4933-8d15-c3d5d37f95f0",
        "colab": {
          "base_uri": "https://localhost:8080/",
          "height": 35
        }
      },
      "source": [
        "def area(P_1: tuple, P_2: tuple, P_3: tuple):\n",
        "  if not len(P_1) == len(P_2) == len(P_3) == 2:\n",
        "    raise ValueError('All co-ordinates must be 2-tuples.')\n",
        "  return abs((P_1[0] * (P_2[1] - P_3[1]) + P_2[0] * (P_3[1] - P_1[1]) + P_3[0] * (P_1[1] - P_2[1]))/2)\n",
        "\n",
        "# Enter arguments to function as three 2-tuples\n",
        "print(area((0, 0), (1, 1), (-1, 2)))\n",
        "  "
      ],
      "execution_count": 12,
      "outputs": [
        {
          "output_type": "stream",
          "text": [
            "1.5\n"
          ],
          "name": "stdout"
        }
      ]
    },
    {
      "cell_type": "markdown",
      "metadata": {
        "deletable": false,
        "editable": false,
        "nbgrader": {
          "cell_type": "markdown",
          "checksum": "538793e1776653182d193a7700588461",
          "grade": false,
          "grade_id": "cell-5065052af9989fdf",
          "locked": true,
          "schema_version": 3,
          "solution": false
        },
        "id": "UynpMdhBbONt"
      },
      "source": [
        "## Exercise 06.2 (selecting data structures)\n",
        "\n",
        "For a simple (non-intersecting) polygon with $n$ vertices, $(x_0, y_0)$, $(x_1, y_1)$, . . , $(x_{n-1}, y_{n-1})$, the area $A$ is given by\n",
        "$$\n",
        "A = \\left| \\frac{1}{2} \\sum_{i=0}^{n-1} \\left(x_{i} y _{i+1} - x_{i+1} y_{i} \\right) \\right|\n",
        "$$\n",
        "and where $(x_n, y_n) = (x_0, y_0)$. The vertices should be ordered as you move around the polygon.\n",
        "\n",
        "Write a function that computes the area of a simple polygon with an arbitrary number of vertices. Test your function for some simple shapes. Pay careful attention to the range of any loops."
      ]
    },
    {
      "cell_type": "code",
      "metadata": {
        "deletable": false,
        "nbgrader": {
          "cell_type": "code",
          "checksum": "3c6fe94718310475d875ec60534199eb",
          "grade": false,
          "grade_id": "cell-4b5a619405787746",
          "locked": false,
          "schema_version": 3,
          "solution": true
        },
        "id": "M23uPnKkbONt",
        "outputId": "814d16ac-e1b7-465c-e2e6-173e75ef292c",
        "colab": {
          "base_uri": "https://localhost:8080/",
          "height": 35
        }
      },
      "source": [
        "import math\n",
        "\n",
        "def area(points: list):\n",
        "  # Check that the input is the correct form\n",
        "  if not all([type(x) is tuple and len(x) == 2 for x in points]):\n",
        "    raise ValueError('Incorrect input syntax - enter a list of 2-tuples')\n",
        "\n",
        "  # Get the centroid\n",
        "  centroid = (sum(points[i][0] for i in range(len(points))) / len(points),\n",
        "              sum(points[j][1] for j in range(len(points))) / len(points))\n",
        "\n",
        "  # Sort the points clockwise from the origin by finding their argument relative to the centroid in polar coordinates\n",
        "  points_list = points\n",
        "  points_list.sort(key = lambda p: math.atan2(p[0] - centroid[0], p[1] - centroid[1]))\n",
        "  \n",
        "  # Use area formula\n",
        "  area = 0\n",
        "  for i in range(len(points_list) - 1):\n",
        "    area += points_list[i][0] * points_list[i+1][1] - points_list[i+1][0] * points_list[i][1]\n",
        "  area = abs(area / 2)\n",
        "  return area\n",
        "\n",
        "# House shaped pentagon, un-ordered points to test sorting\n",
        "print(area([(0, 0), (2, 0), (1, 2), (2, 1), (0, 1)]))\n"
      ],
      "execution_count": 37,
      "outputs": [
        {
          "output_type": "stream",
          "text": [
            "3.0\n"
          ],
          "name": "stdout"
        }
      ]
    },
    {
      "cell_type": "markdown",
      "metadata": {
        "deletable": false,
        "editable": false,
        "nbgrader": {
          "cell_type": "markdown",
          "checksum": "31a71dcd54f996f2f798df30114b9faf",
          "grade": false,
          "grade_id": "cell-ced99a38c7bbe7a0",
          "locked": true,
          "schema_version": 3,
          "solution": false
        },
        "id": "z5ZPE0aYbONx"
      },
      "source": [
        "## Exercise 06.3 (indexing)\n",
        "\n",
        "Write a function that uses list indexing to add two vectors of arbitrary length, and returns the new vector. Include a check that the vector sizes match, and print a warning message if there is a size mismatch. The more error information you provide, the easier it would be for someone using your function to debug their code.\n",
        "\n",
        "Add some tests of your code.\n",
        "\n",
        "#### Hint: You can create a list of zeros of length `n` by\n",
        "\n",
        "    z = [0]*n\n",
        "    \n",
        "#### Optional (advanced) \n",
        "\n",
        "Try writing a one-line version of this operation using list comprehension and the built-in function [`zip`](https://docs.python.org/3/library/functions.html#zip)."
      ]
    },
    {
      "cell_type": "code",
      "metadata": {
        "deletable": false,
        "nbgrader": {
          "cell_type": "code",
          "checksum": "66ea7d534bb1cbabf82dbcbb69e4dd02",
          "grade": false,
          "grade_id": "cell-47daca03f7a96b62",
          "locked": false,
          "schema_version": 3,
          "solution": true
        },
        "id": "xBEr3YTnbONy"
      },
      "source": [
        "def sum_vector(x: list, y: list):\n",
        "  # Return sum of two vectors\n",
        "  if not len(x) == len(y):\n",
        "    raise ValueError('Each input must be a list of equal length')\n",
        "  vector = []\n",
        "  for i in range(len(x)):\n",
        "    vector.append(x[i] + y[i])\n",
        "  return vector\n"
      ],
      "execution_count": 59,
      "outputs": []
    },
    {
      "cell_type": "code",
      "metadata": {
        "deletable": false,
        "editable": false,
        "nbgrader": {
          "cell_type": "code",
          "checksum": "9b3d802cdb7440be47952667335f5cc7",
          "grade": true,
          "grade_id": "cell-95f5819810d2b2c7",
          "locked": true,
          "points": 0,
          "schema_version": 3,
          "solution": false
        },
        "id": "jYzGGibvbON0"
      },
      "source": [
        "a = [0, 4.3, -5, 7]\n",
        "b = [-2, 7, -15, 1]\n",
        "c = sum_vector(a, b)\n",
        "assert c == [-2, 11.3, -20, 8]"
      ],
      "execution_count": 60,
      "outputs": []
    },
    {
      "cell_type": "markdown",
      "metadata": {
        "id": "DSrkjzrVbON3"
      },
      "source": [
        "### Extension: list comprehension"
      ]
    },
    {
      "cell_type": "code",
      "metadata": {
        "deletable": false,
        "nbgrader": {
          "cell_type": "code",
          "checksum": "3ace0d343b7871c30f7776e20669bf3e",
          "grade": true,
          "grade_id": "cell-c182b3f0d8952692",
          "locked": false,
          "points": 0,
          "schema_version": 3,
          "solution": true
        },
        "id": "OeAfFO3lbON3"
      },
      "source": [
        "def sum_vector(x, y):\n",
        "  # Return sum of two vectors\n",
        "  return [sum(list(zip(x, y))[i]) for i in range(len(x))]"
      ],
      "execution_count": 61,
      "outputs": []
    },
    {
      "cell_type": "markdown",
      "metadata": {
        "id": "RCeWoiHfbON5"
      },
      "source": [
        "## Exercise 06.4 (dictionaries)\n",
        "\n",
        "Create a dictionary that maps college names (the key) to college abbreviations for at least 5 colleges\n",
        "(you can find abbreviations at https://en.wikipedia.org/wiki/Colleges_of_the_University_of_Cambridge#Colleges).\n",
        "From the dictionary, produce and print\n",
        "\n",
        "1. A dictionary from college abbreviation to name; and\n",
        "1. A list of college abbreviations sorted into alphabetical order.\n",
        "\n",
        "*Optional extension:* Create a dictionary that maps college names (the key) to dictionaries of:\n",
        "\n",
        "- College abbreviation\n",
        "- Year of foundation \n",
        "- Total number students\n",
        " \n",
        "for at least 5 colleges. Take the data from https://en.wikipedia.org/wiki/Colleges_of_the_University_of_Cambridge#Colleges. Using this dictionary, \n",
        "\n",
        "1. Find the college with the greatest number of students and print the abbreviation; and \n",
        "2. Find the oldest college, and print the number of students and the abbreviation for this college."
      ]
    },
    {
      "cell_type": "code",
      "metadata": {
        "deletable": false,
        "nbgrader": {
          "cell_type": "code",
          "checksum": "892cc4fd98d0f8cc393eff925b5d6b13",
          "grade": false,
          "grade_id": "cell-bc271dc3885e19c5",
          "locked": false,
          "schema_version": 3,
          "solution": true
        },
        "id": "OZkmnC5YbON5",
        "outputId": "3a6b6532-c14e-4bdd-80f3-d0902685b94f",
        "colab": {
          "base_uri": "https://localhost:8080/",
          "height": 35
        }
      },
      "source": [
        "colleges = {\"Emmanuel\" : \"EM\",\n",
        "            \"Christ's\" : \"CHR\",\n",
        "            \"Downing\" : \"DOW\",\n",
        "            \"Fitzwilliam\" : \"F\",\n",
        "            \"Girton\" : \"G\"}\n",
        "\n",
        "sorted_colleges = {k: v for k, v in sorted(colleges.items(), key = lambda item: item[1])}\n",
        "print(sorted_colleges)\n",
        "\n"
      ],
      "execution_count": 65,
      "outputs": [
        {
          "output_type": "stream",
          "text": [
            "{\"Christ's\": 'CHR', 'Downing': 'DOW', 'Emmanuel': 'EM', 'Fitzwilliam': 'F', 'Girton': 'G'}\n"
          ],
          "name": "stdout"
        }
      ]
    },
    {
      "cell_type": "markdown",
      "metadata": {
        "deletable": false,
        "editable": false,
        "nbgrader": {
          "cell_type": "markdown",
          "checksum": "ee373920fe2377cf230967db220ba75a",
          "grade": false,
          "grade_id": "cell-45d2551a524193b0",
          "locked": true,
          "schema_version": 3,
          "solution": false
        },
        "id": "atHX87AkbON8"
      },
      "source": [
        "#### Optional extension"
      ]
    },
    {
      "cell_type": "code",
      "metadata": {
        "deletable": false,
        "nbgrader": {
          "cell_type": "code",
          "checksum": "683b2dc107d00c494b6c163c5ab6cfa8",
          "grade": false,
          "grade_id": "cell-7040c4053c72ce09",
          "locked": false,
          "schema_version": 3,
          "solution": true
        },
        "id": "mLKkgaqQbON8",
        "outputId": "cabafeb0-16a5-4a3b-8d23-ba015c6b3740",
        "colab": {
          "base_uri": "https://localhost:8080/",
          "height": 52
        }
      },
      "source": [
        "colleges = {\"Emmanuel\" : (\"EM\", 1584, 718),\n",
        "            \"Christ's\" : (\"CHR\", 1505, 689),\n",
        "            \"Downing\" : (\"DOW\", 1800, 845),\n",
        "            \"Fitzwilliam\" : (\"F\", 1869, 899),\n",
        "            \"Girton\" : (\"G\", 1869, 808)}\n",
        "\n",
        "by_date = {k: v for k, v in sorted(colleges.items(), key = lambda item: item[1][1])}\n",
        "by_student_numbers = {k: v for k, v in sorted(colleges.items(), key = lambda item: item[1][2])}\n",
        "\n",
        "most_students = list(by_student_numbers)[-1]\n",
        "oldest_college = list(by_date)[0]\n",
        "print('College with greatest number of students is {} ({})'.format(most_students, colleges[most_students][0]))\n",
        "print('Oldest college is {} ({}), which has {} students'.format(oldest_college, colleges[oldest_college][0], colleges[oldest_college][2]))"
      ],
      "execution_count": 71,
      "outputs": [
        {
          "output_type": "stream",
          "text": [
            "College with greatest number of students is Fitzwilliam (F)\n",
            "Oldest college is Christ's (CHR), which has 689 students\n"
          ],
          "name": "stdout"
        }
      ]
    }
  ]
}