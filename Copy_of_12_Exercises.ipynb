{
  "nbformat": 4,
  "nbformat_minor": 0,
  "metadata": {
    "kernelspec": {
      "display_name": "Python 3",
      "language": "python",
      "name": "python3"
    },
    "language_info": {
      "codemirror_mode": {
        "name": "ipython",
        "version": 3
      },
      "file_extension": ".py",
      "mimetype": "text/x-python",
      "name": "python",
      "nbconvert_exporter": "python",
      "pygments_lexer": "ipython3",
      "version": "3.8.5"
    },
    "colab": {
      "name": "Copy of 12 Exercises.ipynb",
      "provenance": [],
      "include_colab_link": true
    }
  },
  "cells": [
    {
      "cell_type": "markdown",
      "metadata": {
        "id": "view-in-github",
        "colab_type": "text"
      },
      "source": [
        "<a href=\"https://colab.research.google.com/github/lorcan2440/Computing-Exercises/blob/main/Copy_of_12_Exercises.ipynb\" target=\"_parent\"><img src=\"https://colab.research.google.com/assets/colab-badge.svg\" alt=\"Open In Colab\"/></a>"
      ]
    },
    {
      "cell_type": "markdown",
      "metadata": {
        "id": "j0chy_Vwycxg"
      },
      "source": [
        "## Exercise 12.1\n",
        "\n",
        "Create a class to represent vectors of arbitrary length and which is initialised with a list of values, e.g.:\n",
        "```python\n",
        "x = MyVector([0, 2, 4])\n",
        "```\n",
        "\n",
        "Equip the class with methods that:\n",
        "\n",
        "1. Return the length of the vector (use name `size`)\n",
        "2. Compute the norm of the vector $\\sqrt{x \\cdot x}$ (use name `norm`)\n",
        "3. Compute the dot product of the vector with another vector (use name `dot`)\n",
        "\n",
        "Test your implementation using two vectors of length 3. To help you get started, a skeleton of the class is provided below. Don't forget to use `self` where necessary."
      ]
    },
    {
      "cell_type": "code",
      "metadata": {
        "id": "R6I2Xxr1ycxh"
      },
      "source": [
        "class MyVector:\n",
        "    \"\"\"A vector object that can return its size and norm, and can compute the dot product \n",
        "    with another vector  \"\"\"\n",
        "    \n",
        "    def __init__(self, x):\n",
        "        self.x = x"
      ],
      "execution_count": null,
      "outputs": []
    },
    {
      "cell_type": "markdown",
      "metadata": {
        "id": "_8ktar5sycxl"
      },
      "source": [
        "### Solution"
      ]
    },
    {
      "cell_type": "code",
      "metadata": {
        "deletable": false,
        "nbgrader": {
          "cell_type": "code",
          "checksum": "713c9493be9ec9fc9aca8f6f8f39c121",
          "grade": false,
          "grade_id": "cell-ff4d6cba19bb1b8e",
          "locked": false,
          "schema_version": 3,
          "solution": true
        },
        "id": "5ytugnExycxl"
      },
      "source": [
        "import math  # Use this to get the sqrt\n",
        "\n",
        "class MyVector:\n",
        "    \"\"\"A vector object that can return its size and norm, and can compute the dot product \n",
        "    with another vector  \"\"\"\n",
        "\n",
        "    def __init__(self, x):\n",
        "        self.x = x\n",
        "\n",
        "    # Return length of vector\n",
        "    def size(self):\n",
        "        return len(self.x)\n",
        "    \n",
        "    # This allows access by index, e.g. y[2]\n",
        "    def __getitem__(self, index):\n",
        "        return self.x[index]\n",
        "\n",
        "    # Return norm of vector\n",
        "    def norm(self):\n",
        "        return math.sqrt(sum([i**2 for i in self.x]))\n",
        "    \n",
        "    # Return dot product of vector with another vector\n",
        "    def dot(self, other):\n",
        "      try:\n",
        "        return sum([self.x[i] * other.x[i] for i in range(self.size())])\n",
        "      except IndexError:\n",
        "        raise ValueError('Vectors must be of equal length')"
      ],
      "execution_count": 11,
      "outputs": []
    },
    {
      "cell_type": "code",
      "metadata": {
        "deletable": false,
        "editable": false,
        "nbgrader": {
          "cell_type": "code",
          "checksum": "1ed85d56501ddc8dc87d5784a25a3580",
          "grade": true,
          "grade_id": "cell-b601b5cc8cf8ab44",
          "locked": true,
          "points": 0,
          "schema_version": 3,
          "solution": false
        },
        "id": "SvIB6A-0ycxo"
      },
      "source": [
        "# Create two vectors\n",
        "u = MyVector([1, 1, 2])\n",
        "v = MyVector([2, 1, 1])\n",
        "\n",
        "assert u.size() == 3\n",
        "assert round(u.norm() - 2.449489742783178) == 0.0\n",
        "assert round(u.dot(v) - 5.0, 10) == 0.0 "
      ],
      "execution_count": 12,
      "outputs": []
    },
    {
      "cell_type": "markdown",
      "metadata": {
        "deletable": false,
        "editable": false,
        "nbgrader": {
          "cell_type": "markdown",
          "checksum": "5da545895b150f78744a35c41d6eb9f4",
          "grade": false,
          "grade_id": "cell-d743191a516ffa05",
          "locked": true,
          "schema_version": 3,
          "solution": false
        },
        "id": "Qt7Bp57Sycxq"
      },
      "source": [
        "## Exercise 12.2\n",
        "\n",
        "1. Create a class for holding a student record entry. It should have the following attributes:\n",
        "   - Surname\n",
        "   - Forename\n",
        "   - Birth year\n",
        "   - Tripos year\n",
        "   - College\n",
        "   - CRSid (optional field)\n",
        "1. Equip your class with the method '`age`' that returns the age of the student in whole years\n",
        "1. Equip your class with the method '`__repr__`' such using `print` on a student record displays with the format\n",
        "\n",
        "       Surname: Bloggs, Forename: Andrea, College: Churchill\n",
        "\n",
        "1. Equip your class with the method `__lt__(self, other)` so that a list of record entries can be sorted by \n",
        "   (surname, forename) using the Python built-in sort function. \n",
        "   \n",
        "   Create a list of entries and test the sorting. Make sure you have two entries with the same\n",
        "   surname.\n",
        "\n",
        "> Recall that the methods starting with `__`, e.g. `__lt__` and `__repr__`, should **not** be called directly. \n",
        "> Python with map them to other operations, e.g. `__repr__` is called when using `print`, and `__lt__` is called \n",
        "> when using `<`. These functions must have a return value.\n",
        "\n",
        "*Hint:* To get the current year:"
      ]
    },
    {
      "cell_type": "code",
      "metadata": {
        "id": "2p-jBrGYycxr",
        "outputId": "ee529cb6-3013-4a54-a12e-3ed81701e397",
        "colab": {
          "base_uri": "https://localhost:8080/",
          "height": 35
        }
      },
      "source": [
        "import datetime\n",
        "year = datetime.date.today().year\n",
        "print(year)"
      ],
      "execution_count": 13,
      "outputs": [
        {
          "output_type": "stream",
          "text": [
            "2020\n"
          ],
          "name": "stdout"
        }
      ]
    },
    {
      "cell_type": "markdown",
      "metadata": {
        "id": "tPdJG8t_ycxu"
      },
      "source": [
        "### Solution"
      ]
    },
    {
      "cell_type": "code",
      "metadata": {
        "deletable": false,
        "nbgrader": {
          "cell_type": "code",
          "checksum": "254313b9c258e03732f4a60e5dee0b78",
          "grade": false,
          "grade_id": "cell-6e857f6089fe0ba8",
          "locked": false,
          "schema_version": 3,
          "solution": true
        },
        "id": "aT1PaYjRycxu",
        "outputId": "06542605-19bf-4b66-e220-37ca3af3c46e",
        "colab": {
          "base_uri": "https://localhost:8080/",
          "height": 35
        }
      },
      "source": [
        "import datetime\n",
        "global current_year, alphabet\n",
        "\n",
        "current_year = datetime.date.today().year\n",
        "alphabet = list('ABCDEFGHIJKLMNOPQRSTUVWXYZ')\n",
        "print(alphabet)\n",
        "\n",
        "class StudentEntry:\n",
        "    def __init__(self, surname, forename, birth_year, year, college, crsid=None):\n",
        "        self.surname = surname\n",
        "        self.forename = forename\n",
        "        self.birth_year = birth_year\n",
        "        self.year = year\n",
        "        self.college = college\n",
        "        self.crsid = crsid\n",
        "\n",
        "    def age(self):\n",
        "      return current_year - self.birth_year\n",
        "\n",
        "    def __repr__(self):\n",
        "      return \"Surname: {}, Forename: {}, College: {}\".format(self.surname, self.forename, self.college)\n",
        "\n",
        "    def __lt__(self, other):\n",
        "\n",
        "      if len(self.surname) < len(other.surname): # Self surname is shorter\n",
        "        for i in range(len(self.surname)):\n",
        "          if alphabet.index(self.surname.upper()[i]) < alphabet.index(other.surname.upper()[i]):\n",
        "            return True\n",
        "          elif alphabet.index(self.surname.upper()[i]) > alphabet.index(other.surname.upper()[i]):\n",
        "            return False\n",
        "\n",
        "        return True # e.g. self = 'John', other = 'Johnson' then self < other\n",
        "\n",
        "      elif len(other.surname) < len(self.surname): # Other surname is shorter\n",
        "        for i in range(len(other.surname)):\n",
        "          if alphabet.index(self.surname.upper()[i]) < alphabet.index(other.surname.upper()[i]):\n",
        "            return True\n",
        "          elif alphabet.index(self.surname.upper()[i]) > alphabet.index(other.surname.upper()[i]):\n",
        "            return False\n",
        "\n",
        "        return False # e.g. self = 'Johnson', other = 'John', then self > other\n",
        "\n",
        "      else: # Surnames have equal length\n",
        "        for i in range(len(self.surname)):\n",
        "          if alphabet.index(self.surname.upper()[i]) < alphabet.index(other.surname.upper()[i]):\n",
        "            return True\n",
        "          elif alphabet.index(self.surname.upper()[i]) > alphabet.index(other.surname.upper()[i]):\n",
        "            return False\n",
        "        \n",
        "        # Loop has not ended - means surnames identical, must check first name\n",
        "\n",
        "        if len(self.forename) < len(other.forename):\n",
        "          for i in range(len(self.forename)):\n",
        "            if alphabet.index(self.forename.upper()[i]) < alphabet.index(other.forename.upper()[i]):\n",
        "              return True\n",
        "            elif alphabet.index(self.forename.upper()[i]) > alphabet.index(other.forename.upper()[i]):\n",
        "              return False\n",
        "            \n",
        "          return True\n",
        "\n",
        "        elif len(self.forename) > len(other.forename):\n",
        "\n",
        "          for i in range(len(other.forename)):\n",
        "            if alphabet.index(self.forename.upper()[i]) < alphabet.index(other.forename.upper()[i]):\n",
        "              return True\n",
        "            elif alphabet.index(self.forename.upper()[i]) > alphabet.index(other.forename.upper()[i]):\n",
        "              return False\n",
        "            \n",
        "          return False\n",
        "\n",
        "        else: # Both surnames and forenames are identical, sort by age\n",
        "          if age(self) < age(other):\n",
        "            return True\n",
        "          else:\n",
        "            return False"
      ],
      "execution_count": 21,
      "outputs": [
        {
          "output_type": "stream",
          "text": [
            "['A', 'B', 'C', 'D', 'E', 'F', 'G', 'H', 'I', 'J', 'K', 'L', 'M', 'N', 'O', 'P', 'Q', 'R', 'S', 'T', 'U', 'V', 'W', 'X', 'Y', 'Z']\n"
          ],
          "name": "stdout"
        }
      ]
    },
    {
      "cell_type": "code",
      "metadata": {
        "deletable": false,
        "editable": false,
        "nbgrader": {
          "cell_type": "code",
          "checksum": "d60f32b3e00d631930ecf9478a0336bb",
          "grade": true,
          "grade_id": "cell-ce8aafb3e627dd86",
          "locked": true,
          "points": 0,
          "schema_version": 3,
          "solution": false
        },
        "id": "4zB7SKpEycxw"
      },
      "source": [
        "s0 = StudentEntry(\"Bloggs\", \"Andrea\", 1996, 1, \"Churchill\", \"ab1001\")       \n",
        "s1 = StudentEntry(\"Reali\", \"John\", 1997, 1, \"Corpus Christi\")       \n",
        "s2 = StudentEntry(\"Bacon\", \"Kevin\", 1996, 1, \"Newnham\")\n",
        "s3 = StudentEntry(\"Bacon\", \"Alexander\", 1996, 1, \"Queens\")\n",
        "\n",
        "assert s0 < s1\n",
        "assert s0 > s2\n",
        "assert s3 < s2\n",
        "assert s0.age() ==  datetime.date.today().year - 1996 \n",
        "assert s1.age() ==  datetime.date.today().year - 1997\n",
        "assert str(s1) == \"Surname: Reali, Forename: John, College: Corpus Christi\"\n",
        "\n",
        "# Test sorting\n",
        "s = [s0, s1, s2, s3]\n",
        "s.sort()\n",
        "for earlier, later in zip(s, s[1:]):\n",
        "    assert earlier.surname <= later.surname\n",
        "    if earlier.surname == later.surname:\n",
        "        assert earlier.forename <= later.forename"
      ],
      "execution_count": 23,
      "outputs": []
    }
  ]
}