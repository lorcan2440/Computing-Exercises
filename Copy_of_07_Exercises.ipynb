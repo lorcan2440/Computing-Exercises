{
  "nbformat": 4,
  "nbformat_minor": 0,
  "metadata": {
    "kernelspec": {
      "display_name": "Python 3",
      "language": "python",
      "name": "python3"
    },
    "language_info": {
      "codemirror_mode": {
        "name": "ipython",
        "version": 3
      },
      "file_extension": ".py",
      "mimetype": "text/x-python",
      "name": "python",
      "nbconvert_exporter": "python",
      "pygments_lexer": "ipython3",
      "version": "3.8.5"
    },
    "colab": {
      "name": "Copy of 07 Exercises.ipynb",
      "provenance": [],
      "include_colab_link": true
    }
  },
  "cells": [
    {
      "cell_type": "markdown",
      "metadata": {
        "id": "view-in-github",
        "colab_type": "text"
      },
      "source": [
        "<a href=\"https://colab.research.google.com/github/lorcan2440/Computing-Exercises/blob/main/Copy_of_07_Exercises.ipynb\" target=\"_parent\"><img src=\"https://colab.research.google.com/assets/colab-badge.svg\" alt=\"Open In Colab\"/></a>"
      ]
    },
    {
      "cell_type": "markdown",
      "metadata": {
        "id": "cwMB65eo0UAn"
      },
      "source": [
        "Make NumPy available:"
      ]
    },
    {
      "cell_type": "code",
      "metadata": {
        "id": "qbJwAUMa0UAp"
      },
      "source": [
        "import numpy as np"
      ],
      "execution_count": 1,
      "outputs": []
    },
    {
      "cell_type": "code",
      "metadata": {
        "id": "5iXzngI_0UAz"
      },
      "source": [
        "x = np.ones(10)\n",
        "y = np.ones(len(x))\n",
        "for i in range(len(x)):\n",
        "    print(x[i]*y[i])"
      ],
      "execution_count": null,
      "outputs": []
    },
    {
      "cell_type": "markdown",
      "metadata": {
        "id": "0WPZMYJ00UAz"
      },
      "source": [
        "## Exercise 07.1 (indexing and timing)\n",
        "\n",
        "Create two very long NumPy arrays `x` and `y` and sum the arrays using:\n",
        "\n",
        "1. The NumPy addition syntax, `z = x + y`; and\n",
        "2. A `for` loop that computes the sum entry-by-entry\n",
        "\n",
        "Compare the time required for the two approaches for vectors of different lengths (use a very long vector for \n",
        "the timing). The values of the array entries are not important for this test. Use `%time` to report the time.\n",
        "\n",
        "*Hint:* To loop over an array using indices, try a construction like:"
      ]
    },
    {
      "cell_type": "markdown",
      "metadata": {
        "id": "UZhz83EY0UA2"
      },
      "source": [
        "#### (1) Add two vectors using built-in addition operator:"
      ]
    },
    {
      "cell_type": "code",
      "metadata": {
        "deletable": false,
        "nbgrader": {
          "cell_type": "code",
          "checksum": "4b3a6fbbfcbe89681e9e2f04cab73d67",
          "grade": false,
          "grade_id": "cell-2c856e54f7c3340e",
          "locked": false,
          "schema_version": 3,
          "solution": true
        },
        "id": "tXFxfAeL0UA2",
        "outputId": "2d0f334d-c81a-407c-ed79-dc384728c84d",
        "colab": {
          "base_uri": "https://localhost:8080/",
          "height": 69
        }
      },
      "source": [
        "import random\n",
        "\n",
        "x, y = np.random.rand(100000), np.random.rand(100000)\n",
        "%time z = x + y\n",
        "print(z)"
      ],
      "execution_count": 17,
      "outputs": [
        {
          "output_type": "stream",
          "text": [
            "CPU times: user 342 µs, sys: 47 µs, total: 389 µs\n",
            "Wall time: 398 µs\n",
            "[1.28649983 0.9762565  1.07655173 ... 0.7903444  0.62655216 1.09296046]\n"
          ],
          "name": "stdout"
        }
      ]
    },
    {
      "cell_type": "markdown",
      "metadata": {
        "id": "A4b4KmpJ0UA5"
      },
      "source": [
        "#### (2) Add two vectors using own implementation:"
      ]
    },
    {
      "cell_type": "code",
      "metadata": {
        "deletable": false,
        "nbgrader": {
          "cell_type": "code",
          "checksum": "f5195f8b039c21a10b079fa7129adf0a",
          "grade": false,
          "grade_id": "cell-f34614f9f0068cc4",
          "locked": false,
          "schema_version": 3,
          "solution": true
        },
        "id": "kC0EJKOP0UA6",
        "outputId": "d8e31f65-000e-4d41-c949-04147ec47544",
        "colab": {
          "base_uri": "https://localhost:8080/",
          "height": 139
        }
      },
      "source": [
        "import random, numba\n",
        "\n",
        "x, y = [random.random() for i in range(100000)], [random.random() for i in range(100000)]\n",
        "\n",
        "print('Times using interpreted code:')\n",
        "def add_vectors_interpreted(x: list, y: list):\n",
        "  return [x[i] + y[i] for i in range(len(x))]\n",
        "%time z = add_vectors_interpreted(x, y)\n",
        "\n",
        "print('\\nTimes using compiled code:')\n",
        "@numba.jit\n",
        "def add_vectors_compiled(x: list, y: list):\n",
        "  return [x[i] + y[i] for i in range(len(x))]\n",
        "%time z = add_vectors_compiled(x, y)\n",
        "\n",
        "# Using JIT is slower??"
      ],
      "execution_count": 47,
      "outputs": [
        {
          "output_type": "stream",
          "text": [
            "Times using interpreted code:\n",
            "CPU times: user 10.9 ms, sys: 0 ns, total: 10.9 ms\n",
            "Wall time: 11 ms\n",
            "\n",
            "Times using compiled code:\n",
            "CPU times: user 536 ms, sys: 932 µs, total: 537 ms\n",
            "Wall time: 538 ms\n"
          ],
          "name": "stdout"
        }
      ]
    },
    {
      "cell_type": "markdown",
      "metadata": {
        "id": "g_k4KwoV0UA8"
      },
      "source": [
        "### Optional extension: just-in-time (JIT) compilation\n",
        "\n",
        "You will see a large difference in the time required between your NumPy and 'plain' Python implementations. This is due to Python being an *interpreted* language as opposed to a *compiled* language. A way to speed up plain Python implementions is to convert the interpreted Python code into compiled code. A tool for doing this is [Numba](https://numba.pydata.org/).\n",
        "\n",
        "Below is an example using Numba and JIT to accelerate a computation:"
      ]
    },
    {
      "cell_type": "code",
      "metadata": {
        "id": "guyMz7x-0UA8",
        "outputId": "64b1b521-3a2e-4ebe-ab24-f29cd2d44a2b",
        "colab": {
          "base_uri": "https://localhost:8080/",
          "height": 87
        }
      },
      "source": [
        "!pip -q install numba \n",
        "import numba\n",
        "import math\n",
        "\n",
        "def compute_sine_native(x):\n",
        "    z = np.zeros(len(x))\n",
        "    for i in range(len(z)):\n",
        "        z[i] = math.sin(x[i])\n",
        "    return z\n",
        "\n",
        "@numba.jit\n",
        "def compute_sine_jit(x):\n",
        "    z = np.zeros(len(x))\n",
        "    for i in range(len(z)):\n",
        "        z[i] = math.sin(x[i])\n",
        "    return z\n",
        "    \n",
        "x = np.ones(10000000)\n",
        "%time z = compute_sine_native(x)\n",
        "compute_sine_jit(x)\n",
        "%time z = compute_sine_jit(x)"
      ],
      "execution_count": 25,
      "outputs": [
        {
          "output_type": "stream",
          "text": [
            "CPU times: user 3.03 s, sys: 16 ms, total: 3.04 s\n",
            "Wall time: 3.04 s\n",
            "CPU times: user 182 ms, sys: 948 µs, total: 183 ms\n",
            "Wall time: 183 ms\n"
          ],
          "name": "stdout"
        }
      ]
    },
    {
      "cell_type": "markdown",
      "metadata": {
        "id": "KgtixXQb0UA-"
      },
      "source": [
        "**Task:** Test if Numba can be used to accelerate your implementation that uses indexing to sum two arrays, and by how much."
      ]
    },
    {
      "cell_type": "markdown",
      "metadata": {
        "id": "zKPCMXiW0UA-"
      },
      "source": [
        "## Exercise 07.2 (member functions and slicing)\n",
        "\n",
        "Anonymised scores (out of 60) for an examination are stored in a NumPy array. Write:\n",
        "\n",
        "1. A function that takes a NumPy array of the raw scores and returns the scores as percentages, sorted from \n",
        "   lowest to highest (try using `scores.sort()`, where `scores` is a NumPy array holding the scores).\n",
        "1. A function that returns the maximum, minimum and mean of the raw scores as a dictionary with the \n",
        "   keys '`min`', '`max`' and '`mean`'. Use the NumPy array functions `min()`, `max()` and `mean()` to do the \n",
        "   computation, e.g. `max = scores.max()`.  \n",
        "   \n",
        "   Design your function for the min, max and mean to optionally exclude the highest and lowest scores from the \n",
        "   computation of the min, max and mean. \n",
        "   \n",
        "   *Hint:* sort the array of scores and use array slicing to exclude\n",
        "   the first and the last entries.\n",
        "\n",
        "Use the scores \n",
        "```python\n",
        "scores = np.array([58.0, 35.0, 24.0, 42, 7.8])\n",
        "```\n",
        "to test your functions."
      ]
    },
    {
      "cell_type": "code",
      "metadata": {
        "deletable": false,
        "nbgrader": {
          "cell_type": "code",
          "checksum": "0d3f6132335348940f562c8a70c520e9",
          "grade": false,
          "grade_id": "cell-169ebae60810c6be",
          "locked": false,
          "schema_version": 3,
          "solution": true
        },
        "id": "9qNcyDtL0UA_"
      },
      "source": [
        "def to_percentage_and_sort(scores):\n",
        "  sorted_scores = scores.sort()\n",
        "  return (scores / 60) * 100\n",
        "\n",
        "def statistics(scores, exclude=False):\n",
        "  if exclude:\n",
        "    return {\"min\" : scores[1:-1].min(),\n",
        "            \"max\" : scores[1:-1].max(),\n",
        "            \"mean\": scores[1:-1].mean()}\n",
        "  else:\n",
        "    return {\"min\" : scores.min(),\n",
        "            \"max\" : scores.max(),\n",
        "            \"mean\": scores.mean()}"
      ],
      "execution_count": 99,
      "outputs": []
    },
    {
      "cell_type": "code",
      "metadata": {
        "deletable": false,
        "editable": false,
        "nbgrader": {
          "cell_type": "code",
          "checksum": "49817c794fad305adbe95251448b7bf2",
          "grade": true,
          "grade_id": "cell-af0b6fd8a3cadb1a",
          "locked": true,
          "points": 0,
          "schema_version": 3,
          "solution": false
        },
        "id": "qnp1fNAF0UBC"
      },
      "source": [
        "scores = np.array([58.0, 35.0, 24.0, 42, 7.8])\n",
        "assert np.isclose(to_percentage_and_sort(scores), [ 13.0, 40.0, 58.33333333,  70.0, 96.66666667]).all()\n",
        "\n",
        "s0 = statistics(scores)\n",
        "assert round(s0[\"min\"] - 7.8, 10) == 0.0\n",
        "assert round(s0[\"mean\"] - 33.36, 10) == 0.0\n",
        "assert round(s0[\"max\"] - 58.0, 10) == 0.0\n",
        "\n",
        "s1 = statistics(scores, True)\n",
        "assert round(s1[\"min\"] - 24.0, 10) == 0.0\n",
        "assert round(s1[\"mean\"] - 33.666666666666666667, 10) == 0.0\n",
        "assert round(s1[\"max\"] - 42.0, 10) == 0.0"
      ],
      "execution_count": 100,
      "outputs": []
    },
    {
      "cell_type": "markdown",
      "metadata": {
        "deletable": false,
        "editable": false,
        "nbgrader": {
          "cell_type": "markdown",
          "checksum": "59fe9ff8629e2b641f8c654b3c0c36ee",
          "grade": false,
          "grade_id": "cell-27beb42d6b15acad",
          "locked": true,
          "schema_version": 3,
          "solution": false
        },
        "id": "Ws3rxS9x0UBF"
      },
      "source": [
        "## Exercise 07.3 (slicing)\n",
        "\n",
        "For the two-dimensional array"
      ]
    },
    {
      "cell_type": "code",
      "metadata": {
        "deletable": false,
        "editable": false,
        "nbgrader": {
          "cell_type": "code",
          "checksum": "72617327e9686e23fc46fd8b050dfddc",
          "grade": false,
          "grade_id": "cell-73a8893e46856789",
          "locked": true,
          "schema_version": 3,
          "solution": false
        },
        "id": "2eCxKlt60UBG",
        "outputId": "136ff721-5fb5-410a-ae1a-f39f5cc6c96e",
        "colab": {
          "base_uri": "https://localhost:8080/",
          "height": 87
        }
      },
      "source": [
        "A = np.array([[4.0, 7.0, -2.43, 67.1],\n",
        "             [-4.0, 64.0, 54.7, -3.33],\n",
        "             [2.43, 23.2, 3.64, 4.11],\n",
        "             [1.2, 2.5, -113.2, 323.22]])\n",
        "print(A)"
      ],
      "execution_count": 103,
      "outputs": [
        {
          "output_type": "stream",
          "text": [
            "[[   4.      7.     -2.43   67.1 ]\n",
            " [  -4.     64.     54.7    -3.33]\n",
            " [   2.43   23.2     3.64    4.11]\n",
            " [   1.2     2.5  -113.2   323.22]]\n"
          ],
          "name": "stdout"
        }
      ]
    },
    {
      "cell_type": "markdown",
      "metadata": {
        "id": "r-xEmxGJ0UBI"
      },
      "source": [
        "use array slicing for the below operations, printing the results to the screen to check. Try to use array slicing such that your code would still work if the dimensions of `A` were enlarged.\n",
        "\n"
      ]
    },
    {
      "cell_type": "markdown",
      "metadata": {
        "deletable": false,
        "editable": false,
        "nbgrader": {
          "cell_type": "markdown",
          "checksum": "6d041f0cf31860711599e3ee7b3491a3",
          "grade": false,
          "grade_id": "cell-f6744c8a86e68cac",
          "locked": true,
          "schema_version": 3,
          "solution": false
        },
        "id": "ElpF_m9n0UBI"
      },
      "source": [
        "#### 1. Extract the third column as a 1D array"
      ]
    },
    {
      "cell_type": "code",
      "metadata": {
        "deletable": false,
        "nbgrader": {
          "cell_type": "code",
          "checksum": "b64ade07370f5fee0946cac30ec0e2ad",
          "grade": false,
          "grade_id": "cell-dfee6b0ed9343682",
          "locked": false,
          "schema_version": 3,
          "solution": true
        },
        "id": "W39-ZYXF0UBI",
        "outputId": "f013131b-f772-4c5b-f5a4-278e40d0ce70",
        "colab": {
          "base_uri": "https://localhost:8080/",
          "height": 35
        }
      },
      "source": [
        "print(np.array([x[2] for x in A]))"
      ],
      "execution_count": 104,
      "outputs": [
        {
          "output_type": "stream",
          "text": [
            "[  -2.43   54.7     3.64 -113.2 ]\n"
          ],
          "name": "stdout"
        }
      ]
    },
    {
      "cell_type": "markdown",
      "metadata": {
        "id": "5drLoqQn0UBM"
      },
      "source": [
        "#### 2. Extract the first two rows as a 2D sub-array"
      ]
    },
    {
      "cell_type": "code",
      "metadata": {
        "deletable": false,
        "nbgrader": {
          "cell_type": "code",
          "checksum": "1501ee7c2e53e803ab2ee91f060600f6",
          "grade": true,
          "grade_id": "cell-7bf2f9a8c67029f8",
          "locked": false,
          "points": 0,
          "schema_version": 3,
          "solution": true
        },
        "id": "s6v5hQTs0UBN",
        "outputId": "d0f49f9d-02c3-4b48-b72a-c365dbf34fd1",
        "colab": {
          "base_uri": "https://localhost:8080/",
          "height": 52
        }
      },
      "source": [
        "print(A[0:2])"
      ],
      "execution_count": 112,
      "outputs": [
        {
          "output_type": "stream",
          "text": [
            "[[ 4.    7.   -2.43 67.1 ]\n",
            " [-4.   64.   54.7  -3.33]]\n"
          ],
          "name": "stdout"
        }
      ]
    },
    {
      "cell_type": "markdown",
      "metadata": {
        "id": "H-3TZhAk0UBP"
      },
      "source": [
        "#### 3.  Extract the bottom-right $2 \\times 2$ block as a 2D sub-array"
      ]
    },
    {
      "cell_type": "code",
      "metadata": {
        "deletable": false,
        "nbgrader": {
          "cell_type": "code",
          "checksum": "f71dc316fa8df4bfd0d201a822e3649b",
          "grade": false,
          "grade_id": "cell-5206fea47d246222",
          "locked": false,
          "schema_version": 3,
          "solution": true
        },
        "id": "KSkjbFX10UBP",
        "outputId": "dc60a498-f1f8-4e4c-aac5-9d33760107a2",
        "colab": {
          "base_uri": "https://localhost:8080/",
          "height": 52
        }
      },
      "source": [
        "print(np.array([[x[-2], x[-1]] for x in [A[-2], A[-1]]]))"
      ],
      "execution_count": 116,
      "outputs": [
        {
          "output_type": "stream",
          "text": [
            "[[   3.64    4.11]\n",
            " [-113.2   323.22]]\n"
          ],
          "name": "stdout"
        }
      ]
    },
    {
      "cell_type": "markdown",
      "metadata": {
        "id": "gedF9JFK0UBS"
      },
      "source": [
        "#### 4. Sum the last column"
      ]
    },
    {
      "cell_type": "code",
      "metadata": {
        "deletable": false,
        "nbgrader": {
          "cell_type": "code",
          "checksum": "e838dfdea65683c219df150d9e896d98",
          "grade": false,
          "grade_id": "cell-34f74988e47b9f87",
          "locked": false,
          "schema_version": 3,
          "solution": true
        },
        "id": "qFQ7pUUP0UBT",
        "outputId": "0d8742de-712d-4f99-f3ea-d1cf17a3b666",
        "colab": {
          "base_uri": "https://localhost:8080/",
          "height": 35
        }
      },
      "source": [
        "print(sum([x[-1] for x in A]))"
      ],
      "execution_count": 117,
      "outputs": [
        {
          "output_type": "stream",
          "text": [
            "391.1\n"
          ],
          "name": "stdout"
        }
      ]
    },
    {
      "cell_type": "markdown",
      "metadata": {
        "id": "XArhofrm0UBV"
      },
      "source": [
        "#### Compute transpose\n",
        "\n",
        "Compute the transpose of `A` (search online to find the function/syntax to do this)."
      ]
    },
    {
      "cell_type": "code",
      "metadata": {
        "deletable": false,
        "nbgrader": {
          "cell_type": "code",
          "checksum": "b9cbe5f84f05129cbc0152ce8c36f470",
          "grade": false,
          "grade_id": "cell-dd2999d2da8070f6",
          "locked": false,
          "schema_version": 3,
          "solution": true
        },
        "id": "IhwT0r0S0UBV",
        "outputId": "fc409118-8f97-44b7-ee3f-2be37e3b3b2b",
        "colab": {
          "base_uri": "https://localhost:8080/",
          "height": 87
        }
      },
      "source": [
        "print(np.transpose(A))"
      ],
      "execution_count": 118,
      "outputs": [
        {
          "output_type": "stream",
          "text": [
            "[[   4.     -4.      2.43    1.2 ]\n",
            " [   7.     64.     23.2     2.5 ]\n",
            " [  -2.43   54.7     3.64 -113.2 ]\n",
            " [  67.1    -3.33    4.11  323.22]]\n"
          ],
          "name": "stdout"
        }
      ]
    },
    {
      "cell_type": "markdown",
      "metadata": {
        "deletable": false,
        "editable": false,
        "nbgrader": {
          "cell_type": "markdown",
          "checksum": "a510432fad6ee25addb097edb316d131",
          "grade": false,
          "grade_id": "cell-f1255669c8aa78d2",
          "locked": true,
          "schema_version": 3,
          "solution": false
        },
        "id": "BIEzTvf00UBX"
      },
      "source": [
        "## Exercise 07.4 (optional extension)\n",
        "\n",
        "In a previous exercise you implemented the bisection algorithm to find approximate roots of a mathematical function. Use the SciPy bisection function `optimize.bisect` (https://docs.scipy.org/doc/scipy/reference/generated/scipy.optimize.bisect.html) to find roots of the mathematical function that was used in the previous exercise. Compare the results computed by SciPy and your program from the earlier exercise, and compare the computational time (using `%time`)."
      ]
    },
    {
      "cell_type": "code",
      "metadata": {
        "deletable": false,
        "nbgrader": {
          "cell_type": "code",
          "checksum": "ed949860804630c700d7f9885647c14d",
          "grade": false,
          "grade_id": "cell-b6580accbcb3c2da",
          "locked": false,
          "schema_version": 3,
          "solution": true
        },
        "id": "D3wma6jK0UBX",
        "outputId": "49f383de-1c95-451a-e469-54cb55207bae",
        "colab": {
          "base_uri": "https://localhost:8080/",
          "height": 173
        }
      },
      "source": [
        "from scipy import optimize\n",
        "global my_f\n",
        "\n",
        "def my_f(x):\n",
        "  return x**3 - 7*x**2 + 10*x - 11\n",
        "\n",
        "def solve_bisection(my_f, x0, x1, tol, max_it):\n",
        "  f = lambda x: my_f(x)\n",
        "  i = 0\n",
        "  a = x0\n",
        "  b = x1\n",
        "  f_mid = 1 + tol\n",
        "  while i < max_it and abs(f_mid) > tol:\n",
        "    x_mid = (a + b)/2\n",
        "    f_0 = f(a)\n",
        "    f_mid = f(x_mid)\n",
        "\n",
        "    if f_0 * f_mid < 0:\n",
        "      b = x_mid\n",
        "    else:\n",
        "      a = x_mid\n",
        "    i += 1\n",
        "\n",
        "  return x_mid, f_mid, i\n",
        "\n",
        "def solve_scipy(my_f, x0, x1, tol, max_it):\n",
        "  return optimize.bisect(my_f, x0, x1, xtol = tol, maxiter = max_it)\n",
        "\n",
        "print('Bisection method times:')\n",
        "%time x_bisect = solve_bisection(my_f, 4, 7, 1e-6, 10000)[0]\n",
        "print(x_bisect)\n",
        "\n",
        "print('\\nScipy specialised function times:')\n",
        "%time x_scipy = solve_scipy(my_f, 4, 7, 1e-6, 10000)\n",
        "print(x_scipy)\n",
        "\n",
        "\n"
      ],
      "execution_count": 127,
      "outputs": [
        {
          "output_type": "stream",
          "text": [
            "Bisection method times:\n",
            "CPU times: user 47 µs, sys: 0 ns, total: 47 µs\n",
            "Wall time: 49.6 µs\n",
            "5.55660542845726\n",
            "\n",
            "Scipy specialised function times:\n",
            "CPU times: user 37 µs, sys: 0 ns, total: 37 µs\n",
            "Wall time: 38.4 µs\n",
            "5.55660605430603\n"
          ],
          "name": "stdout"
        }
      ]
    }
  ]
}