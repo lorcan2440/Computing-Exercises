{
  "nbformat": 4,
  "nbformat_minor": 0,
  "metadata": {
    "kernelspec": {
      "display_name": "Python 3",
      "language": "python",
      "name": "python3"
    },
    "language_info": {
      "codemirror_mode": {
        "name": "ipython",
        "version": 3
      },
      "file_extension": ".py",
      "mimetype": "text/x-python",
      "name": "python",
      "nbconvert_exporter": "python",
      "pygments_lexer": "ipython3",
      "version": "3.8.5"
    },
    "colab": {
      "name": "Copy of 08 Exercises.ipynb",
      "provenance": [],
      "include_colab_link": true
    },
    "widgets": {
      "application/vnd.jupyter.widget-state+json": {
        "092bc8a2f5ee4a949ab1e23e090c8213": {
          "model_module": "@jupyter-widgets/controls",
          "model_name": "VBoxModel",
          "state": {
            "_view_name": "VBoxView",
            "_dom_classes": [
              "widget-interact"
            ],
            "_model_name": "VBoxModel",
            "_view_module": "@jupyter-widgets/controls",
            "_model_module_version": "1.5.0",
            "_view_count": null,
            "_view_module_version": "1.5.0",
            "box_style": "",
            "layout": "IPY_MODEL_794def8f147141fe818e1ea22ad8fa63",
            "_model_module": "@jupyter-widgets/controls",
            "children": [
              "IPY_MODEL_7f2daa1bc38241b1a0a8663b99b36ea6",
              "IPY_MODEL_340dcd7072444702973dcfecbc458d25",
              "IPY_MODEL_04c63d251b5a4e64a541df74d3126d18"
            ]
          }
        },
        "794def8f147141fe818e1ea22ad8fa63": {
          "model_module": "@jupyter-widgets/base",
          "model_name": "LayoutModel",
          "state": {
            "_view_name": "LayoutView",
            "grid_template_rows": null,
            "right": null,
            "justify_content": null,
            "_view_module": "@jupyter-widgets/base",
            "overflow": null,
            "_model_module_version": "1.2.0",
            "_view_count": null,
            "flex_flow": null,
            "width": null,
            "min_width": null,
            "border": null,
            "align_items": null,
            "bottom": null,
            "_model_module": "@jupyter-widgets/base",
            "top": null,
            "grid_column": null,
            "overflow_y": null,
            "overflow_x": null,
            "grid_auto_flow": null,
            "grid_area": null,
            "grid_template_columns": null,
            "flex": null,
            "_model_name": "LayoutModel",
            "justify_items": null,
            "grid_row": null,
            "max_height": null,
            "align_content": null,
            "visibility": null,
            "align_self": null,
            "height": null,
            "min_height": null,
            "padding": null,
            "grid_auto_rows": null,
            "grid_gap": null,
            "max_width": null,
            "order": null,
            "_view_module_version": "1.2.0",
            "grid_template_areas": null,
            "object_position": null,
            "object_fit": null,
            "grid_auto_columns": null,
            "margin": null,
            "display": null,
            "left": null
          }
        },
        "7f2daa1bc38241b1a0a8663b99b36ea6": {
          "model_module": "@jupyter-widgets/controls",
          "model_name": "FloatSliderModel",
          "state": {
            "_view_name": "FloatSliderView",
            "style": "IPY_MODEL_979d08ede05f466396e4dce1522c9fe3",
            "_dom_classes": [],
            "description": "ω_0",
            "step": 0.05,
            "_model_name": "FloatSliderModel",
            "orientation": "horizontal",
            "max": 2,
            "_view_module": "@jupyter-widgets/controls",
            "_model_module_version": "1.5.0",
            "value": 0.75,
            "_view_count": null,
            "disabled": false,
            "_view_module_version": "1.5.0",
            "min": 0,
            "continuous_update": true,
            "readout_format": ".2f",
            "description_tooltip": null,
            "readout": true,
            "_model_module": "@jupyter-widgets/controls",
            "layout": "IPY_MODEL_bbe78e7d3d4245c6abb1b6d6f9ec7235"
          }
        },
        "340dcd7072444702973dcfecbc458d25": {
          "model_module": "@jupyter-widgets/controls",
          "model_name": "FloatSliderModel",
          "state": {
            "_view_name": "FloatSliderView",
            "style": "IPY_MODEL_711757ec81b340b18291fa28709401b5",
            "_dom_classes": [],
            "description": "ω_1",
            "step": 0.05,
            "_model_name": "FloatSliderModel",
            "orientation": "horizontal",
            "max": 2,
            "_view_module": "@jupyter-widgets/controls",
            "_model_module_version": "1.5.0",
            "value": 1.4,
            "_view_count": null,
            "disabled": false,
            "_view_module_version": "1.5.0",
            "min": 0,
            "continuous_update": true,
            "readout_format": ".2f",
            "description_tooltip": null,
            "readout": true,
            "_model_module": "@jupyter-widgets/controls",
            "layout": "IPY_MODEL_56421b05e41b4981960df7d5fa31eb4e"
          }
        },
        "04c63d251b5a4e64a541df74d3126d18": {
          "model_module": "@jupyter-widgets/output",
          "model_name": "OutputModel",
          "state": {
            "_view_name": "OutputView",
            "msg_id": "",
            "_dom_classes": [],
            "_model_name": "OutputModel",
            "outputs": [
              {
                "output_type": "display_data",
                "metadata": {
                  "tags": [],
                  "needs_background": "light"
                },
                "image/png": "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\n",
                "text/plain": "<Figure size 432x288 with 1 Axes>"
              }
            ],
            "_view_module": "@jupyter-widgets/output",
            "_model_module_version": "1.0.0",
            "_view_count": null,
            "_view_module_version": "1.0.0",
            "layout": "IPY_MODEL_6cb0985521124ff69dd8465d42510114",
            "_model_module": "@jupyter-widgets/output"
          }
        },
        "979d08ede05f466396e4dce1522c9fe3": {
          "model_module": "@jupyter-widgets/controls",
          "model_name": "SliderStyleModel",
          "state": {
            "_view_name": "StyleView",
            "handle_color": null,
            "_model_name": "SliderStyleModel",
            "description_width": "",
            "_view_module": "@jupyter-widgets/base",
            "_model_module_version": "1.5.0",
            "_view_count": null,
            "_view_module_version": "1.2.0",
            "_model_module": "@jupyter-widgets/controls"
          }
        },
        "bbe78e7d3d4245c6abb1b6d6f9ec7235": {
          "model_module": "@jupyter-widgets/base",
          "model_name": "LayoutModel",
          "state": {
            "_view_name": "LayoutView",
            "grid_template_rows": null,
            "right": null,
            "justify_content": null,
            "_view_module": "@jupyter-widgets/base",
            "overflow": null,
            "_model_module_version": "1.2.0",
            "_view_count": null,
            "flex_flow": null,
            "width": null,
            "min_width": null,
            "border": null,
            "align_items": null,
            "bottom": null,
            "_model_module": "@jupyter-widgets/base",
            "top": null,
            "grid_column": null,
            "overflow_y": null,
            "overflow_x": null,
            "grid_auto_flow": null,
            "grid_area": null,
            "grid_template_columns": null,
            "flex": null,
            "_model_name": "LayoutModel",
            "justify_items": null,
            "grid_row": null,
            "max_height": null,
            "align_content": null,
            "visibility": null,
            "align_self": null,
            "height": null,
            "min_height": null,
            "padding": null,
            "grid_auto_rows": null,
            "grid_gap": null,
            "max_width": null,
            "order": null,
            "_view_module_version": "1.2.0",
            "grid_template_areas": null,
            "object_position": null,
            "object_fit": null,
            "grid_auto_columns": null,
            "margin": null,
            "display": null,
            "left": null
          }
        },
        "711757ec81b340b18291fa28709401b5": {
          "model_module": "@jupyter-widgets/controls",
          "model_name": "SliderStyleModel",
          "state": {
            "_view_name": "StyleView",
            "handle_color": null,
            "_model_name": "SliderStyleModel",
            "description_width": "",
            "_view_module": "@jupyter-widgets/base",
            "_model_module_version": "1.5.0",
            "_view_count": null,
            "_view_module_version": "1.2.0",
            "_model_module": "@jupyter-widgets/controls"
          }
        },
        "56421b05e41b4981960df7d5fa31eb4e": {
          "model_module": "@jupyter-widgets/base",
          "model_name": "LayoutModel",
          "state": {
            "_view_name": "LayoutView",
            "grid_template_rows": null,
            "right": null,
            "justify_content": null,
            "_view_module": "@jupyter-widgets/base",
            "overflow": null,
            "_model_module_version": "1.2.0",
            "_view_count": null,
            "flex_flow": null,
            "width": null,
            "min_width": null,
            "border": null,
            "align_items": null,
            "bottom": null,
            "_model_module": "@jupyter-widgets/base",
            "top": null,
            "grid_column": null,
            "overflow_y": null,
            "overflow_x": null,
            "grid_auto_flow": null,
            "grid_area": null,
            "grid_template_columns": null,
            "flex": null,
            "_model_name": "LayoutModel",
            "justify_items": null,
            "grid_row": null,
            "max_height": null,
            "align_content": null,
            "visibility": null,
            "align_self": null,
            "height": null,
            "min_height": null,
            "padding": null,
            "grid_auto_rows": null,
            "grid_gap": null,
            "max_width": null,
            "order": null,
            "_view_module_version": "1.2.0",
            "grid_template_areas": null,
            "object_position": null,
            "object_fit": null,
            "grid_auto_columns": null,
            "margin": null,
            "display": null,
            "left": null
          }
        },
        "6cb0985521124ff69dd8465d42510114": {
          "model_module": "@jupyter-widgets/base",
          "model_name": "LayoutModel",
          "state": {
            "_view_name": "LayoutView",
            "grid_template_rows": null,
            "right": null,
            "justify_content": null,
            "_view_module": "@jupyter-widgets/base",
            "overflow": null,
            "_model_module_version": "1.2.0",
            "_view_count": null,
            "flex_flow": null,
            "width": null,
            "min_width": null,
            "border": null,
            "align_items": null,
            "bottom": null,
            "_model_module": "@jupyter-widgets/base",
            "top": null,
            "grid_column": null,
            "overflow_y": null,
            "overflow_x": null,
            "grid_auto_flow": null,
            "grid_area": null,
            "grid_template_columns": null,
            "flex": null,
            "_model_name": "LayoutModel",
            "justify_items": null,
            "grid_row": null,
            "max_height": null,
            "align_content": null,
            "visibility": null,
            "align_self": null,
            "height": null,
            "min_height": null,
            "padding": null,
            "grid_auto_rows": null,
            "grid_gap": null,
            "max_width": null,
            "order": null,
            "_view_module_version": "1.2.0",
            "grid_template_areas": null,
            "object_position": null,
            "object_fit": null,
            "grid_auto_columns": null,
            "margin": null,
            "display": null,
            "left": null
          }
        },
        "7e7f289d655f4aefbe149a9f40c3e389": {
          "model_module": "@jupyter-widgets/controls",
          "model_name": "VBoxModel",
          "state": {
            "_view_name": "VBoxView",
            "_dom_classes": [
              "widget-interact"
            ],
            "_model_name": "VBoxModel",
            "_view_module": "@jupyter-widgets/controls",
            "_model_module_version": "1.5.0",
            "_view_count": null,
            "_view_module_version": "1.5.0",
            "box_style": "",
            "layout": "IPY_MODEL_d55b9e131d924bf9934a06fda756fa60",
            "_model_module": "@jupyter-widgets/controls",
            "children": [
              "IPY_MODEL_b713a82bfff94114ba9d1a72dfad8a72",
              "IPY_MODEL_27d856a7a6174a20ac2b8820b9f3815a",
              "IPY_MODEL_dfd978f95e5a4711948c9bfdedd06eeb",
              "IPY_MODEL_2b289b42ae864e2e894d31db98d4354c",
              "IPY_MODEL_7d8d8488632e4160be084bb41a4b820c",
              "IPY_MODEL_79b452798e2441e9b42887db94a760f7",
              "IPY_MODEL_8826b2b8f1ba4149a2787a7af827c0fd"
            ]
          }
        },
        "d55b9e131d924bf9934a06fda756fa60": {
          "model_module": "@jupyter-widgets/base",
          "model_name": "LayoutModel",
          "state": {
            "_view_name": "LayoutView",
            "grid_template_rows": null,
            "right": null,
            "justify_content": null,
            "_view_module": "@jupyter-widgets/base",
            "overflow": null,
            "_model_module_version": "1.2.0",
            "_view_count": null,
            "flex_flow": null,
            "width": null,
            "min_width": null,
            "border": null,
            "align_items": null,
            "bottom": null,
            "_model_module": "@jupyter-widgets/base",
            "top": null,
            "grid_column": null,
            "overflow_y": null,
            "overflow_x": null,
            "grid_auto_flow": null,
            "grid_area": null,
            "grid_template_columns": null,
            "flex": null,
            "_model_name": "LayoutModel",
            "justify_items": null,
            "grid_row": null,
            "max_height": null,
            "align_content": null,
            "visibility": null,
            "align_self": null,
            "height": null,
            "min_height": null,
            "padding": null,
            "grid_auto_rows": null,
            "grid_gap": null,
            "max_width": null,
            "order": null,
            "_view_module_version": "1.2.0",
            "grid_template_areas": null,
            "object_position": null,
            "object_fit": null,
            "grid_auto_columns": null,
            "margin": null,
            "display": null,
            "left": null
          }
        },
        "b713a82bfff94114ba9d1a72dfad8a72": {
          "model_module": "@jupyter-widgets/controls",
          "model_name": "FloatSliderModel",
          "state": {
            "_view_name": "FloatSliderView",
            "style": "IPY_MODEL_daecdf030da74d8699e7573ff2911708",
            "_dom_classes": [],
            "description": "CambridgeCityGrowthRate",
            "step": 0.5,
            "_model_name": "FloatSliderModel",
            "orientation": "horizontal",
            "max": 10,
            "_view_module": "@jupyter-widgets/controls",
            "_model_module_version": "1.5.0",
            "value": 5,
            "_view_count": null,
            "disabled": false,
            "_view_module_version": "1.5.0",
            "min": 0,
            "continuous_update": true,
            "readout_format": ".2f",
            "description_tooltip": null,
            "readout": true,
            "_model_module": "@jupyter-widgets/controls",
            "layout": "IPY_MODEL_e9dc6498f10c4167a4af5f9007373195"
          }
        },
        "27d856a7a6174a20ac2b8820b9f3815a": {
          "model_module": "@jupyter-widgets/controls",
          "model_name": "FloatSliderModel",
          "state": {
            "_view_name": "FloatSliderView",
            "style": "IPY_MODEL_f066f02c483943b986fdff4a78ade8ae",
            "_dom_classes": [],
            "description": "EastCambridgeshireGrowthRate",
            "step": 0.5,
            "_model_name": "FloatSliderModel",
            "orientation": "horizontal",
            "max": 10,
            "_view_module": "@jupyter-widgets/controls",
            "_model_module_version": "1.5.0",
            "value": 5,
            "_view_count": null,
            "disabled": false,
            "_view_module_version": "1.5.0",
            "min": 0,
            "continuous_update": true,
            "readout_format": ".2f",
            "description_tooltip": null,
            "readout": true,
            "_model_module": "@jupyter-widgets/controls",
            "layout": "IPY_MODEL_c888ccce35594da885176f43fb3d0f6b"
          }
        },
        "dfd978f95e5a4711948c9bfdedd06eeb": {
          "model_module": "@jupyter-widgets/controls",
          "model_name": "FloatSliderModel",
          "state": {
            "_view_name": "FloatSliderView",
            "style": "IPY_MODEL_21228f1505034bd2ba2cfc0e3b086d6d",
            "_dom_classes": [],
            "description": "FenlandGrowthRate",
            "step": 0.5,
            "_model_name": "FloatSliderModel",
            "orientation": "horizontal",
            "max": 10,
            "_view_module": "@jupyter-widgets/controls",
            "_model_module_version": "1.5.0",
            "value": 5,
            "_view_count": null,
            "disabled": false,
            "_view_module_version": "1.5.0",
            "min": 0,
            "continuous_update": true,
            "readout_format": ".2f",
            "description_tooltip": null,
            "readout": true,
            "_model_module": "@jupyter-widgets/controls",
            "layout": "IPY_MODEL_56c34d341a344c0eb3c72c03407855c8"
          }
        },
        "2b289b42ae864e2e894d31db98d4354c": {
          "model_module": "@jupyter-widgets/controls",
          "model_name": "FloatSliderModel",
          "state": {
            "_view_name": "FloatSliderView",
            "style": "IPY_MODEL_bc29e74f39924b3782f7579859fb1963",
            "_dom_classes": [],
            "description": "HuntindonshireGrowthRate",
            "step": 0.5,
            "_model_name": "FloatSliderModel",
            "orientation": "horizontal",
            "max": 10,
            "_view_module": "@jupyter-widgets/controls",
            "_model_module_version": "1.5.0",
            "value": 5,
            "_view_count": null,
            "disabled": false,
            "_view_module_version": "1.5.0",
            "min": 0,
            "continuous_update": true,
            "readout_format": ".2f",
            "description_tooltip": null,
            "readout": true,
            "_model_module": "@jupyter-widgets/controls",
            "layout": "IPY_MODEL_261f49af7bb743058ca1922b0b48d3e2"
          }
        },
        "7d8d8488632e4160be084bb41a4b820c": {
          "model_module": "@jupyter-widgets/controls",
          "model_name": "FloatSliderModel",
          "state": {
            "_view_name": "FloatSliderView",
            "style": "IPY_MODEL_e3190c5ebec7428fae06527c7776bcda",
            "_dom_classes": [],
            "description": "SouthCambridgeshireGrowthRate",
            "step": 0.5,
            "_model_name": "FloatSliderModel",
            "orientation": "horizontal",
            "max": 10,
            "_view_module": "@jupyter-widgets/controls",
            "_model_module_version": "1.5.0",
            "value": 5,
            "_view_count": null,
            "disabled": false,
            "_view_module_version": "1.5.0",
            "min": 0,
            "continuous_update": true,
            "readout_format": ".2f",
            "description_tooltip": null,
            "readout": true,
            "_model_module": "@jupyter-widgets/controls",
            "layout": "IPY_MODEL_c1163e6d6fed479fae6178592a45e31d"
          }
        },
        "79b452798e2441e9b42887db94a760f7": {
          "model_module": "@jupyter-widgets/controls",
          "model_name": "IntSliderModel",
          "state": {
            "_view_name": "IntSliderView",
            "style": "IPY_MODEL_4cb06d818e39430696f06de991311971",
            "_dom_classes": [],
            "description": "year",
            "step": 1,
            "_model_name": "IntSliderModel",
            "orientation": "horizontal",
            "max": 2021,
            "_view_module": "@jupyter-widgets/controls",
            "_model_module_version": "1.5.0",
            "value": 2016,
            "_view_count": null,
            "disabled": false,
            "_view_module_version": "1.5.0",
            "min": 2011,
            "continuous_update": true,
            "readout_format": "d",
            "description_tooltip": null,
            "readout": true,
            "_model_module": "@jupyter-widgets/controls",
            "layout": "IPY_MODEL_3787df2c88ea44c0b75545eb577a8a1b"
          }
        },
        "8826b2b8f1ba4149a2787a7af827c0fd": {
          "model_module": "@jupyter-widgets/output",
          "model_name": "OutputModel",
          "state": {
            "_view_name": "OutputView",
            "msg_id": "",
            "_dom_classes": [],
            "_model_name": "OutputModel",
            "outputs": [
              {
                "output_type": "display_data",
                "metadata": {
                  "tags": []
                },
                "image/png": "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\n",
                "text/plain": "<Figure size 432x288 with 1 Axes>"
              }
            ],
            "_view_module": "@jupyter-widgets/output",
            "_model_module_version": "1.0.0",
            "_view_count": null,
            "_view_module_version": "1.0.0",
            "layout": "IPY_MODEL_0bbf9649641c40bdb1c1331d38dfa000",
            "_model_module": "@jupyter-widgets/output"
          }
        },
        "daecdf030da74d8699e7573ff2911708": {
          "model_module": "@jupyter-widgets/controls",
          "model_name": "SliderStyleModel",
          "state": {
            "_view_name": "StyleView",
            "handle_color": null,
            "_model_name": "SliderStyleModel",
            "description_width": "",
            "_view_module": "@jupyter-widgets/base",
            "_model_module_version": "1.5.0",
            "_view_count": null,
            "_view_module_version": "1.2.0",
            "_model_module": "@jupyter-widgets/controls"
          }
        },
        "e9dc6498f10c4167a4af5f9007373195": {
          "model_module": "@jupyter-widgets/base",
          "model_name": "LayoutModel",
          "state": {
            "_view_name": "LayoutView",
            "grid_template_rows": null,
            "right": null,
            "justify_content": null,
            "_view_module": "@jupyter-widgets/base",
            "overflow": null,
            "_model_module_version": "1.2.0",
            "_view_count": null,
            "flex_flow": null,
            "width": null,
            "min_width": null,
            "border": null,
            "align_items": null,
            "bottom": null,
            "_model_module": "@jupyter-widgets/base",
            "top": null,
            "grid_column": null,
            "overflow_y": null,
            "overflow_x": null,
            "grid_auto_flow": null,
            "grid_area": null,
            "grid_template_columns": null,
            "flex": null,
            "_model_name": "LayoutModel",
            "justify_items": null,
            "grid_row": null,
            "max_height": null,
            "align_content": null,
            "visibility": null,
            "align_self": null,
            "height": null,
            "min_height": null,
            "padding": null,
            "grid_auto_rows": null,
            "grid_gap": null,
            "max_width": null,
            "order": null,
            "_view_module_version": "1.2.0",
            "grid_template_areas": null,
            "object_position": null,
            "object_fit": null,
            "grid_auto_columns": null,
            "margin": null,
            "display": null,
            "left": null
          }
        },
        "f066f02c483943b986fdff4a78ade8ae": {
          "model_module": "@jupyter-widgets/controls",
          "model_name": "SliderStyleModel",
          "state": {
            "_view_name": "StyleView",
            "handle_color": null,
            "_model_name": "SliderStyleModel",
            "description_width": "",
            "_view_module": "@jupyter-widgets/base",
            "_model_module_version": "1.5.0",
            "_view_count": null,
            "_view_module_version": "1.2.0",
            "_model_module": "@jupyter-widgets/controls"
          }
        },
        "c888ccce35594da885176f43fb3d0f6b": {
          "model_module": "@jupyter-widgets/base",
          "model_name": "LayoutModel",
          "state": {
            "_view_name": "LayoutView",
            "grid_template_rows": null,
            "right": null,
            "justify_content": null,
            "_view_module": "@jupyter-widgets/base",
            "overflow": null,
            "_model_module_version": "1.2.0",
            "_view_count": null,
            "flex_flow": null,
            "width": null,
            "min_width": null,
            "border": null,
            "align_items": null,
            "bottom": null,
            "_model_module": "@jupyter-widgets/base",
            "top": null,
            "grid_column": null,
            "overflow_y": null,
            "overflow_x": null,
            "grid_auto_flow": null,
            "grid_area": null,
            "grid_template_columns": null,
            "flex": null,
            "_model_name": "LayoutModel",
            "justify_items": null,
            "grid_row": null,
            "max_height": null,
            "align_content": null,
            "visibility": null,
            "align_self": null,
            "height": null,
            "min_height": null,
            "padding": null,
            "grid_auto_rows": null,
            "grid_gap": null,
            "max_width": null,
            "order": null,
            "_view_module_version": "1.2.0",
            "grid_template_areas": null,
            "object_position": null,
            "object_fit": null,
            "grid_auto_columns": null,
            "margin": null,
            "display": null,
            "left": null
          }
        },
        "21228f1505034bd2ba2cfc0e3b086d6d": {
          "model_module": "@jupyter-widgets/controls",
          "model_name": "SliderStyleModel",
          "state": {
            "_view_name": "StyleView",
            "handle_color": null,
            "_model_name": "SliderStyleModel",
            "description_width": "",
            "_view_module": "@jupyter-widgets/base",
            "_model_module_version": "1.5.0",
            "_view_count": null,
            "_view_module_version": "1.2.0",
            "_model_module": "@jupyter-widgets/controls"
          }
        },
        "56c34d341a344c0eb3c72c03407855c8": {
          "model_module": "@jupyter-widgets/base",
          "model_name": "LayoutModel",
          "state": {
            "_view_name": "LayoutView",
            "grid_template_rows": null,
            "right": null,
            "justify_content": null,
            "_view_module": "@jupyter-widgets/base",
            "overflow": null,
            "_model_module_version": "1.2.0",
            "_view_count": null,
            "flex_flow": null,
            "width": null,
            "min_width": null,
            "border": null,
            "align_items": null,
            "bottom": null,
            "_model_module": "@jupyter-widgets/base",
            "top": null,
            "grid_column": null,
            "overflow_y": null,
            "overflow_x": null,
            "grid_auto_flow": null,
            "grid_area": null,
            "grid_template_columns": null,
            "flex": null,
            "_model_name": "LayoutModel",
            "justify_items": null,
            "grid_row": null,
            "max_height": null,
            "align_content": null,
            "visibility": null,
            "align_self": null,
            "height": null,
            "min_height": null,
            "padding": null,
            "grid_auto_rows": null,
            "grid_gap": null,
            "max_width": null,
            "order": null,
            "_view_module_version": "1.2.0",
            "grid_template_areas": null,
            "object_position": null,
            "object_fit": null,
            "grid_auto_columns": null,
            "margin": null,
            "display": null,
            "left": null
          }
        },
        "bc29e74f39924b3782f7579859fb1963": {
          "model_module": "@jupyter-widgets/controls",
          "model_name": "SliderStyleModel",
          "state": {
            "_view_name": "StyleView",
            "handle_color": null,
            "_model_name": "SliderStyleModel",
            "description_width": "",
            "_view_module": "@jupyter-widgets/base",
            "_model_module_version": "1.5.0",
            "_view_count": null,
            "_view_module_version": "1.2.0",
            "_model_module": "@jupyter-widgets/controls"
          }
        },
        "261f49af7bb743058ca1922b0b48d3e2": {
          "model_module": "@jupyter-widgets/base",
          "model_name": "LayoutModel",
          "state": {
            "_view_name": "LayoutView",
            "grid_template_rows": null,
            "right": null,
            "justify_content": null,
            "_view_module": "@jupyter-widgets/base",
            "overflow": null,
            "_model_module_version": "1.2.0",
            "_view_count": null,
            "flex_flow": null,
            "width": null,
            "min_width": null,
            "border": null,
            "align_items": null,
            "bottom": null,
            "_model_module": "@jupyter-widgets/base",
            "top": null,
            "grid_column": null,
            "overflow_y": null,
            "overflow_x": null,
            "grid_auto_flow": null,
            "grid_area": null,
            "grid_template_columns": null,
            "flex": null,
            "_model_name": "LayoutModel",
            "justify_items": null,
            "grid_row": null,
            "max_height": null,
            "align_content": null,
            "visibility": null,
            "align_self": null,
            "height": null,
            "min_height": null,
            "padding": null,
            "grid_auto_rows": null,
            "grid_gap": null,
            "max_width": null,
            "order": null,
            "_view_module_version": "1.2.0",
            "grid_template_areas": null,
            "object_position": null,
            "object_fit": null,
            "grid_auto_columns": null,
            "margin": null,
            "display": null,
            "left": null
          }
        },
        "e3190c5ebec7428fae06527c7776bcda": {
          "model_module": "@jupyter-widgets/controls",
          "model_name": "SliderStyleModel",
          "state": {
            "_view_name": "StyleView",
            "handle_color": null,
            "_model_name": "SliderStyleModel",
            "description_width": "",
            "_view_module": "@jupyter-widgets/base",
            "_model_module_version": "1.5.0",
            "_view_count": null,
            "_view_module_version": "1.2.0",
            "_model_module": "@jupyter-widgets/controls"
          }
        },
        "c1163e6d6fed479fae6178592a45e31d": {
          "model_module": "@jupyter-widgets/base",
          "model_name": "LayoutModel",
          "state": {
            "_view_name": "LayoutView",
            "grid_template_rows": null,
            "right": null,
            "justify_content": null,
            "_view_module": "@jupyter-widgets/base",
            "overflow": null,
            "_model_module_version": "1.2.0",
            "_view_count": null,
            "flex_flow": null,
            "width": null,
            "min_width": null,
            "border": null,
            "align_items": null,
            "bottom": null,
            "_model_module": "@jupyter-widgets/base",
            "top": null,
            "grid_column": null,
            "overflow_y": null,
            "overflow_x": null,
            "grid_auto_flow": null,
            "grid_area": null,
            "grid_template_columns": null,
            "flex": null,
            "_model_name": "LayoutModel",
            "justify_items": null,
            "grid_row": null,
            "max_height": null,
            "align_content": null,
            "visibility": null,
            "align_self": null,
            "height": null,
            "min_height": null,
            "padding": null,
            "grid_auto_rows": null,
            "grid_gap": null,
            "max_width": null,
            "order": null,
            "_view_module_version": "1.2.0",
            "grid_template_areas": null,
            "object_position": null,
            "object_fit": null,
            "grid_auto_columns": null,
            "margin": null,
            "display": null,
            "left": null
          }
        },
        "4cb06d818e39430696f06de991311971": {
          "model_module": "@jupyter-widgets/controls",
          "model_name": "SliderStyleModel",
          "state": {
            "_view_name": "StyleView",
            "handle_color": null,
            "_model_name": "SliderStyleModel",
            "description_width": "",
            "_view_module": "@jupyter-widgets/base",
            "_model_module_version": "1.5.0",
            "_view_count": null,
            "_view_module_version": "1.2.0",
            "_model_module": "@jupyter-widgets/controls"
          }
        },
        "3787df2c88ea44c0b75545eb577a8a1b": {
          "model_module": "@jupyter-widgets/base",
          "model_name": "LayoutModel",
          "state": {
            "_view_name": "LayoutView",
            "grid_template_rows": null,
            "right": null,
            "justify_content": null,
            "_view_module": "@jupyter-widgets/base",
            "overflow": null,
            "_model_module_version": "1.2.0",
            "_view_count": null,
            "flex_flow": null,
            "width": null,
            "min_width": null,
            "border": null,
            "align_items": null,
            "bottom": null,
            "_model_module": "@jupyter-widgets/base",
            "top": null,
            "grid_column": null,
            "overflow_y": null,
            "overflow_x": null,
            "grid_auto_flow": null,
            "grid_area": null,
            "grid_template_columns": null,
            "flex": null,
            "_model_name": "LayoutModel",
            "justify_items": null,
            "grid_row": null,
            "max_height": null,
            "align_content": null,
            "visibility": null,
            "align_self": null,
            "height": null,
            "min_height": null,
            "padding": null,
            "grid_auto_rows": null,
            "grid_gap": null,
            "max_width": null,
            "order": null,
            "_view_module_version": "1.2.0",
            "grid_template_areas": null,
            "object_position": null,
            "object_fit": null,
            "grid_auto_columns": null,
            "margin": null,
            "display": null,
            "left": null
          }
        },
        "0bbf9649641c40bdb1c1331d38dfa000": {
          "model_module": "@jupyter-widgets/base",
          "model_name": "LayoutModel",
          "state": {
            "_view_name": "LayoutView",
            "grid_template_rows": null,
            "right": null,
            "justify_content": null,
            "_view_module": "@jupyter-widgets/base",
            "overflow": null,
            "_model_module_version": "1.2.0",
            "_view_count": null,
            "flex_flow": null,
            "width": null,
            "min_width": null,
            "border": null,
            "align_items": null,
            "bottom": null,
            "_model_module": "@jupyter-widgets/base",
            "top": null,
            "grid_column": null,
            "overflow_y": null,
            "overflow_x": null,
            "grid_auto_flow": null,
            "grid_area": null,
            "grid_template_columns": null,
            "flex": null,
            "_model_name": "LayoutModel",
            "justify_items": null,
            "grid_row": null,
            "max_height": null,
            "align_content": null,
            "visibility": null,
            "align_self": null,
            "height": null,
            "min_height": null,
            "padding": null,
            "grid_auto_rows": null,
            "grid_gap": null,
            "max_width": null,
            "order": null,
            "_view_module_version": "1.2.0",
            "grid_template_areas": null,
            "object_position": null,
            "object_fit": null,
            "grid_auto_columns": null,
            "margin": null,
            "display": null,
            "left": null
          }
        }
      }
    }
  },
  "cells": [
    {
      "cell_type": "markdown",
      "metadata": {
        "id": "view-in-github",
        "colab_type": "text"
      },
      "source": [
        "<a href=\"https://colab.research.google.com/github/lorcan2440/Computing-Exercises/blob/main/Copy_of_08_Exercises.ipynb\" target=\"_parent\"><img src=\"https://colab.research.google.com/assets/colab-badge.svg\" alt=\"Open In Colab\"/></a>"
      ]
    },
    {
      "cell_type": "markdown",
      "metadata": {
        "deletable": false,
        "editable": false,
        "nbgrader": {
          "cell_type": "markdown",
          "checksum": "75c425aff1f0a436daf36404c8ba2ab1",
          "grade": false,
          "grade_id": "cell-ea6c1e4c217d0584",
          "locked": true,
          "schema_version": 3,
          "solution": false
        },
        "id": "gmsAUmpJhSZf"
      },
      "source": [
        "Import the NumPy and Matplotlib modules:"
      ]
    },
    {
      "cell_type": "code",
      "metadata": {
        "deletable": false,
        "editable": false,
        "nbgrader": {
          "cell_type": "code",
          "checksum": "59eda70eb0da3f712de94d757423e124",
          "grade": false,
          "grade_id": "cell-851f16f7d1f512b6",
          "locked": true,
          "schema_version": 3,
          "solution": false
        },
        "id": "YTaQgMNuhSZg"
      },
      "source": [
        "%matplotlib inline\n",
        "import numpy as np\n",
        "import matplotlib.pyplot as plt"
      ],
      "execution_count": 1,
      "outputs": []
    },
    {
      "cell_type": "markdown",
      "metadata": {
        "deletable": false,
        "editable": false,
        "nbgrader": {
          "cell_type": "markdown",
          "checksum": "8acb2d08e3646dfeb083bc19f1ad7e50",
          "grade": false,
          "grade_id": "cell-2ae2b1794b3463d5",
          "locked": true,
          "schema_version": 3,
          "solution": false
        },
        "id": "4nXyUX4chSZj"
      },
      "source": [
        "## Exercise 08.1 (function plotting)\n",
        "\n",
        "Consider the function \n",
        "$$\n",
        "f(x) = e^{x/10} \\sin(\\omega_{1}x)\\cos(\\omega_{0}x)\n",
        "$$\n",
        "from $x = -4\\pi$ to $x = 4\\pi$."
      ]
    },
    {
      "cell_type": "markdown",
      "metadata": {
        "deletable": false,
        "editable": false,
        "nbgrader": {
          "cell_type": "markdown",
          "checksum": "829dcc103249f5c46c67dd8738848e0e",
          "grade": false,
          "grade_id": "cell-7bbadc15f57cb62e",
          "locked": true,
          "schema_version": 3,
          "solution": false
        },
        "id": "SE7ZIgGshSZk"
      },
      "source": [
        "(1) Plot the function when $\\omega_{0} = \\omega_{1} = 1$. Label the axes."
      ]
    },
    {
      "cell_type": "code",
      "metadata": {
        "deletable": false,
        "nbgrader": {
          "cell_type": "code",
          "checksum": "dda339af9d9ff1200c6e690cc736346e",
          "grade": false,
          "grade_id": "cell-c220b6560241ee82",
          "locked": false,
          "schema_version": 3,
          "solution": true
        },
        "id": "ttcgGYKPhSZk",
        "outputId": "e30bbc8c-b4e3-4e0e-bd41-0e45d673d5fd",
        "colab": {
          "base_uri": "https://localhost:8080/",
          "height": 289
        }
      },
      "source": [
        "from matplotlib import rcParams\n",
        "rcParams.update({'font.size': 16})\n",
        "\n",
        "num_points = 100\n",
        "x = np.linspace(-4*np.pi, 4*np.pi, num=num_points)\n",
        "f = np.exp(x/10)*np.sin(x)*np.cos(x)\n",
        "\n",
        "plt.plot(x, f)\n",
        "plt.xlabel('$x$')\n",
        "plt.ylabel(r'$ f(x) = e^{\\frac{x}{10}} \\cdot \\sin x \\cdot \\cos x $')\n",
        "plt.show()\n",
        "\n"
      ],
      "execution_count": 12,
      "outputs": [
        {
          "output_type": "display_data",
          "data": {
            "image/png": "[encoded data removed]",
            "text/plain": [
              "<Figure size 432x288 with 1 Axes>"
            ]
          },
          "metadata": {
            "tags": [],
            "needs_background": "light"
          }
        }
      ]
    },
    {
      "cell_type": "markdown",
      "metadata": {
        "deletable": false,
        "editable": false,
        "nbgrader": {
          "cell_type": "markdown",
          "checksum": "9d299345f06033e8be689ce7feebea37",
          "grade": false,
          "grade_id": "cell-e4170686d6779807",
          "locked": true,
          "schema_version": 3,
          "solution": false
        },
        "id": "Ht8HFUoXhSZn"
      },
      "source": [
        "(2) Create an interactive plot with sliders for $\\omega_{0}$ and $\\omega_{1}$, varying from 0 to 2."
      ]
    },
    {
      "cell_type": "code",
      "metadata": {
        "deletable": false,
        "nbgrader": {
          "cell_type": "code",
          "checksum": "88d66aece0257fe1f0965921fcfc3580",
          "grade": false,
          "grade_id": "cell-e6df2ed12d41ffa1",
          "locked": false,
          "schema_version": 3,
          "solution": true
        },
        "id": "L96-NJNIhSZo",
        "outputId": "69087d83-62b1-4d97-da6d-951c357a420e",
        "colab": {
          "base_uri": "https://localhost:8080/",
          "height": 353,
          "referenced_widgets": [
            "092bc8a2f5ee4a949ab1e23e090c8213",
            "794def8f147141fe818e1ea22ad8fa63",
            "7f2daa1bc38241b1a0a8663b99b36ea6",
            "340dcd7072444702973dcfecbc458d25",
            "04c63d251b5a4e64a541df74d3126d18",
            "979d08ede05f466396e4dce1522c9fe3",
            "bbe78e7d3d4245c6abb1b6d6f9ec7235",
            "711757ec81b340b18291fa28709401b5",
            "56421b05e41b4981960df7d5fa31eb4e",
            "6cb0985521124ff69dd8465d42510114"
          ]
        }
      },
      "source": [
        "from ipywidgets import *\n",
        "from matplotlib import rcParams\n",
        "from matplotlib import pyplot as plt\n",
        "rcParams.update({'font.size': 16})\n",
        "\n",
        "num_points = 100\n",
        "\n",
        "@interact(ω_0 = (0, 2, 0.05), ω_1 = (0, 2, 0.05))\n",
        "def plot(ω_0 = 1, ω_1 = 1):\n",
        "  x = np.linspace(-4*np.pi, 4*np.pi, num=num_points)\n",
        "  f = np.exp(x/10)*np.sin(ω_1 * x)*np.cos(ω_0 * x)\n",
        "  plt.plot(x, f)\n",
        "  plt.xlabel('$x$')\n",
        "  plt.ylabel(r'$ f(x) = e^{\\frac{x}{10}} \\cdot \\sin \\omega_1 x \\cdot \\cos \\omega_0 x $')\n",
        "  plt.show()\n"
      ],
      "execution_count": 18,
      "outputs": [
        {
          "output_type": "display_data",
          "data": {
            "application/vnd.jupyter.widget-view+json": {
              "model_id": "092bc8a2f5ee4a949ab1e23e090c8213",
              "version_minor": 0,
              "version_major": 2
            },
            "text/plain": [
              "interactive(children=(FloatSlider(value=1.0, description='ω_0', max=2.0, step=0.05), FloatSlider(value=1.0, de…"
            ]
          },
          "metadata": {
            "tags": []
          }
        }
      ]
    },
    {
      "cell_type": "markdown",
      "metadata": {
        "deletable": false,
        "editable": false,
        "nbgrader": {
          "cell_type": "markdown",
          "checksum": "94ca85f38721a3face01aecf8f91dedd",
          "grade": false,
          "grade_id": "cell-8fa19840a1969ff6",
          "locked": true,
          "schema_version": 3,
          "solution": false
        },
        "id": "aS02UaAOhSZr"
      },
      "source": [
        "## Exercise 08.2 (multiple function plotting)\n",
        "\n",
        "Plot the function \n",
        "\n",
        "$$\n",
        "f(x)  = \\frac{\\sin(x)}{x}\n",
        "$$\n",
        "\n",
        "from $x = -6\\pi$ to $x = 6\\pi$. Think carefully about which $x$ values you use when \n",
        "$x$ is close to zero.\n",
        "  \n",
        "Add to the above plot the graph of $1/ \\left| x \\right|$, and limit the range of the $y$ axis to 1 using\n",
        "`plt.ylim`. (Hint: use `np.abs(x)` to return the absolute values of each \n",
        "component of a NumPy array `x`.)"
      ]
    },
    {
      "cell_type": "code",
      "metadata": {
        "deletable": false,
        "nbgrader": {
          "cell_type": "code",
          "checksum": "e530357e82442e9fcb34698e9ddd5460",
          "grade": false,
          "grade_id": "cell-4a1bc264d6e1a525",
          "locked": false,
          "schema_version": 3,
          "solution": true
        },
        "id": "hLQ_x2N3hSZr",
        "outputId": "07ff6d31-59dd-469c-a8c5-74769eb70414",
        "colab": {
          "base_uri": "https://localhost:8080/",
          "height": 270
        }
      },
      "source": [
        "import math\n",
        "from matplotlib import pyplot as plt\n",
        "\n",
        "x = np.linspace(-6 * math.pi, 6 * math.pi, num = 1000)\n",
        "try:\n",
        "  f = np.sin(x) / x\n",
        "  g = 1/np.abs(x)\n",
        "except ZeroDivisionError:\n",
        "  f = np.array([math.sin(t)/t if not t == 0 else 1 for t in x])\n",
        "  g = np.array([1/np.abs(t) if not t == 0 else 1e100 for t in x])\n",
        "  raise RuntimeWarning('May be a vertical asymptote or discontinuity')\n",
        "\n",
        "plt.plot(x, f, label = '$ \\frac{\\sin x}{x} $')\n",
        "plt.plot(x, g, label = '$ \\frac{1}{|x|} $')\n",
        "plt.ylim(-0.5, 1.1)\n",
        "plt.show()\n",
        "\n"
      ],
      "execution_count": 37,
      "outputs": [
        {
          "output_type": "display_data",
          "data": {
            "image/png": "[encoded data removed]",
            "text/plain": [
              "<Figure size 432x288 with 1 Axes>"
            ]
          },
          "metadata": {
            "tags": [],
            "needs_background": "light"
          }
        }
      ]
    },
    {
      "cell_type": "markdown",
      "metadata": {
        "id": "O79UjWA0hSZt"
      },
      "source": [
        "## Exercise 08.3 (demographics and interactive plotting)\n",
        "\n",
        "A county planning body has requested an interactive tool to visualise the population distribution in Cambridgeshire (by district) from 2011 to 2021 for different population growth rate scenarios in each district. It can be assumed that:\n",
        "\n",
        "- the growth rates are constant in each district;\n",
        "- the growth rate will not be negative in any district; and \n",
        "- the annual growth rate in any one district will not exceed 10%.\n",
        "\n",
        "Building on the pie chart example with population data in the Activity notebook, create an interactive plot with:\n",
        "\n",
        "1. A slider for the year (from 2011 to 2021); and\n",
        "2. Sliders for the annual population growth for each district (in percentage), with an \n",
        "   initial value of zero for each district."
      ]
    },
    {
      "cell_type": "markdown",
      "metadata": {
        "id": "OSKmBvjFhSZu"
      },
      "source": [
        "### Solution\n",
        "\n",
        "There are number of ways this exercise could be done, from very simple but not very robust with respect to changes in the order of the input data, to quite techical but robust with repsect to the order in which data is entered."
      ]
    },
    {
      "cell_type": "code",
      "metadata": {
        "deletable": false,
        "nbgrader": {
          "cell_type": "code",
          "checksum": "c900ac52bff18cf62b81b3ff3522789e",
          "grade": false,
          "grade_id": "cell-0ddfc4c579d42ad3",
          "locked": false,
          "schema_version": 3,
          "solution": true
        },
        "id": "3dqxgRpghSZu",
        "outputId": "1ee347ba-fe53-4fb4-a815-0a280165b0ed",
        "colab": {
          "base_uri": "https://localhost:8080/",
          "height": 461,
          "referenced_widgets": [
            "7e7f289d655f4aefbe149a9f40c3e389",
            "d55b9e131d924bf9934a06fda756fa60",
            "b713a82bfff94114ba9d1a72dfad8a72",
            "27d856a7a6174a20ac2b8820b9f3815a",
            "dfd978f95e5a4711948c9bfdedd06eeb",
            "2b289b42ae864e2e894d31db98d4354c",
            "7d8d8488632e4160be084bb41a4b820c",
            "79b452798e2441e9b42887db94a760f7",
            "8826b2b8f1ba4149a2787a7af827c0fd",
            "daecdf030da74d8699e7573ff2911708",
            "e9dc6498f10c4167a4af5f9007373195",
            "f066f02c483943b986fdff4a78ade8ae",
            "c888ccce35594da885176f43fb3d0f6b",
            "21228f1505034bd2ba2cfc0e3b086d6d",
            "56c34d341a344c0eb3c72c03407855c8",
            "bc29e74f39924b3782f7579859fb1963",
            "261f49af7bb743058ca1922b0b48d3e2",
            "e3190c5ebec7428fae06527c7776bcda",
            "c1163e6d6fed479fae6178592a45e31d",
            "4cb06d818e39430696f06de991311971",
            "3787df2c88ea44c0b75545eb577a8a1b",
            "0bbf9649641c40bdb1c1331d38dfa000"
          ]
        }
      },
      "source": [
        "# List of (district, population) data (in 2011)\n",
        "population_data = (('Cambridge City', 123900), \n",
        "                   ('East Cambridgeshire', 83800), \n",
        "                   ('Fenland', 95300), \n",
        "                   ('Huntingdonshire', 169500), \n",
        "                   ('South Cambridgeshire', 148800))\n",
        "\n",
        "@interact(CambridgeCityGrowthRate = (0, 10, 0.5), \n",
        "          EastCambridgeshireGrowthRate = (0, 10, 0.5),\n",
        "          FenlandGrowthRate = (0, 10, 0.5),\n",
        "          HuntindonshireGrowthRate = (0, 10, 0.5),\n",
        "          SouthCambridgeshireGrowthRate = (0, 10, 0.5),\n",
        "          year = (2011, 2021, 1))\n",
        "\n",
        "def pie_chart(CambridgeCityGrowthRate, EastCambridgeshireGrowthRate, FenlandGrowthRate, \n",
        "              HuntindonshireGrowthRate, SouthCambridgeshireGrowthRate, year):\n",
        "  \n",
        "  # Visuals\n",
        "  plt.title(\"{} population distribution in Cambridgeshire\".format(year))  \n",
        "  colours = ['yellowgreen', 'gold', 'lightskyblue', 'lightcoral', 'red']\n",
        "\n",
        "  # Convert each slider value to its exponential growth formula value\n",
        "  rates = np.array([CambridgeCityGrowthRate, EastCambridgeshireGrowthRate, FenlandGrowthRate, \n",
        "                    HuntindonshireGrowthRate, SouthCambridgeshireGrowthRate])\n",
        "  rates = 1 + rates/100\n",
        "  \n",
        "  # Calculate new populations and make pie chart\n",
        "  population = np.array([population_data[i][1] * rates[i]**(year - 2011) for i in range(len(population_data))])\n",
        "  plt.pie(np.round(population), labels = tuple([i[0] for i in population_data]), colors = colours,\n",
        "          shadow = True, startangle = 90)\n",
        "  plt.show()\n",
        "\n"
      ],
      "execution_count": 61,
      "outputs": [
        {
          "output_type": "display_data",
          "data": {
            "application/vnd.jupyter.widget-view+json": {
              "model_id": "7e7f289d655f4aefbe149a9f40c3e389",
              "version_minor": 0,
              "version_major": 2
            },
            "text/plain": [
              "interactive(children=(FloatSlider(value=5.0, description='CambridgeCityGrowthRate', max=10.0, step=0.5), Float…"
            ]
          },
          "metadata": {
            "tags": []
          }
        }
      ]
    },
    {
      "cell_type": "markdown",
      "metadata": {
        "deletable": false,
        "editable": false,
        "nbgrader": {
          "cell_type": "markdown",
          "checksum": "c024a8a5864e12debafec52174d7341a",
          "grade": false,
          "grade_id": "cell-19fdd0fd825e2005",
          "locked": true,
          "schema_version": 3,
          "solution": false
        },
        "id": "8db9IC8LhSZw"
      },
      "source": [
        "## Exercise 08.4 (crime reports by location)\n",
        "\n",
        "### Background\n",
        "\n",
        "Your task is to produce a crime report data plot in the neighborhood of your college, by reported crime\n",
        "category.\n",
        "\n",
        "We can get crime data in the UK from the police data systems using what is known as a *REST API*,\n",
        "and turn the data into a list of Python dictionaries. Each entry in the list is a police report \n",
        "(an entry is a Python dictionary detailing the report).\n",
        "\n",
        "The first step is to import the modules we will be using:"
      ]
    },
    {
      "cell_type": "code",
      "metadata": {
        "id": "jDo783kRhSZw",
        "outputId": "dbbf7e7b-1ecf-40e3-c050-870fb75be371",
        "colab": {
          "base_uri": "https://localhost:8080/",
          "height": 104
        }
      },
      "source": [
        "!pip install requests"
      ],
      "execution_count": 62,
      "outputs": [
        {
          "output_type": "stream",
          "text": [
            "Requirement already satisfied: requests in /usr/local/lib/python3.6/dist-packages (2.23.0)\n",
            "Requirement already satisfied: certifi>=2017.4.17 in /usr/local/lib/python3.6/dist-packages (from requests) (2020.6.20)\n",
            "Requirement already satisfied: urllib3!=1.25.0,!=1.25.1,<1.26,>=1.21.1 in /usr/local/lib/python3.6/dist-packages (from requests) (1.24.3)\n",
            "Requirement already satisfied: idna<3,>=2.5 in /usr/local/lib/python3.6/dist-packages (from requests) (2.10)\n",
            "Requirement already satisfied: chardet<4,>=3.0.2 in /usr/local/lib/python3.6/dist-packages (from requests) (3.0.4)\n"
          ],
          "name": "stdout"
        }
      ]
    },
    {
      "cell_type": "code",
      "metadata": {
        "deletable": false,
        "editable": false,
        "nbgrader": {
          "cell_type": "code",
          "checksum": "635a33b775f96c81101d782a20cc1e0d",
          "grade": false,
          "grade_id": "cell-93e17ffdff5e0ac9",
          "locked": true,
          "schema_version": 3,
          "solution": false
        },
        "id": "RU_kGxI2hSZz"
      },
      "source": [
        "import json\n",
        "import requests"
      ],
      "execution_count": 8,
      "outputs": []
    },
    {
      "cell_type": "markdown",
      "metadata": {
        "deletable": false,
        "editable": false,
        "nbgrader": {
          "cell_type": "markdown",
          "checksum": "236f60bc32cc2e90a0fb16d1cc12db32",
          "grade": false,
          "grade_id": "cell-076189a984888933",
          "locked": true,
          "schema_version": 3,
          "solution": false
        },
        "id": "MkHFN3zChSZ1"
      },
      "source": [
        "The service https://data.police.uk has an interface where we can add specific strings to the URL (web address) to define what data we are intersted in, and the police server will return our requested data. The format is\n",
        "\n",
        "    https://data.police.uk/api/crimes-street/all-crime?lat=52.629729&lng=-1.131592&date=2017-01\n",
        "    \n",
        "This return crimes reports within a mile radius of the geographic coordinate point for the month `2017-01`.          \n",
        "\n",
        "Below we create this URL string to include a part of the Cambridge city centre. You can modify this for your own college or other areas of interest (Google Maps is a handy way to get the geographic coordinates)."
      ]
    },
    {
      "cell_type": "code",
      "metadata": {
        "deletable": false,
        "editable": false,
        "nbgrader": {
          "cell_type": "code",
          "checksum": "90239485428af6079b3f83a770bd8ccb",
          "grade": false,
          "grade_id": "cell-b59145a288b844f9",
          "locked": true,
          "schema_version": 3,
          "solution": false
        },
        "id": "JTch4f8GhSZ1"
      },
      "source": [
        "# A point in the Cambridge city centre\n",
        "long, lat = 52.205277, 0.119117\n",
        "\n",
        "# year-month of interest\n",
        "year_month = '2019-05'\n",
        "\n",
        "# Construct request URL string\n",
        "url = \"https://data.police.uk/api/crimes-street/all-crime?lat={}&lng={}&date={}\".format(long, lat, year_month)\n",
        "\n",
        "# Fetch data from https://data.police.uk\n",
        "r = requests.get(url)"
      ],
      "execution_count": 9,
      "outputs": []
    },
    {
      "cell_type": "markdown",
      "metadata": {
        "deletable": false,
        "editable": false,
        "nbgrader": {
          "cell_type": "markdown",
          "checksum": "5bca2739633b6258a7bc93b130237b85",
          "grade": false,
          "grade_id": "cell-4aca875e8d686608",
          "locked": true,
          "schema_version": 3,
          "solution": false
        },
        "id": "qbEQKxzahSZ4"
      },
      "source": [
        "The following converts the fetched data into a list of dictionaries:"
      ]
    },
    {
      "cell_type": "code",
      "metadata": {
        "id": "WBc4LB_YhSZ4"
      },
      "source": [
        "crime_data = r.json()"
      ],
      "execution_count": 10,
      "outputs": []
    },
    {
      "cell_type": "markdown",
      "metadata": {
        "id": "jGxZP6cEhSZ7"
      },
      "source": [
        "To get an idea of how the data is arranged, we can look at the first report in the list. To make the displayed data easier to read, we use the 'pretty print' module `pprint`."
      ]
    },
    {
      "cell_type": "code",
      "metadata": {
        "id": "cvZLpSRuhSZ8",
        "outputId": "fb24d2eb-4176-4b58-d905-dc5d98242025",
        "colab": {
          "base_uri": "https://localhost:8080/",
          "height": 433
        }
      },
      "source": [
        "import pprint\n",
        "if crime_data:\n",
        "    pprint.pprint(crime_data[0:2])"
      ],
      "execution_count": 11,
      "outputs": [
        {
          "output_type": "stream",
          "text": [
            "[{'category': 'anti-social-behaviour',\n",
            "  'context': '',\n",
            "  'id': 74130545,\n",
            "  'location': {'latitude': '52.202066',\n",
            "               'longitude': '0.133596',\n",
            "               'street': {'id': 560696, 'name': 'On or near Willis Road'}},\n",
            "  'location_subtype': '',\n",
            "  'location_type': 'Force',\n",
            "  'month': '2019-05',\n",
            "  'outcome_status': None,\n",
            "  'persistent_id': ''},\n",
            " {'category': 'anti-social-behaviour',\n",
            "  'context': '',\n",
            "  'id': 74130534,\n",
            "  'location': {'latitude': '52.207112',\n",
            "               'longitude': '0.117577',\n",
            "               'street': {'id': 560584,\n",
            "                          'name': 'On or near Further/higher Educational '\n",
            "                                  'Building'}},\n",
            "  'location_subtype': '',\n",
            "  'location_type': 'Force',\n",
            "  'month': '2019-05',\n",
            "  'outcome_status': None,\n",
            "  'persistent_id': ''}]\n"
          ],
          "name": "stdout"
        }
      ]
    },
    {
      "cell_type": "markdown",
      "metadata": {
        "id": "sde8lJZhhSZ-"
      },
      "source": [
        "Each dictionary item corresponds to a reported crime."
      ]
    },
    {
      "cell_type": "markdown",
      "metadata": {
        "id": "WfGbC6pEhSZ-"
      },
      "source": [
        "### Task\n",
        "\n",
        "Produce a bar chart of the number of reports in different categories. Run your program for different parts of Cambridge, starting with the area around your college, and for different months and years.\n",
        "\n",
        "#### Hints\n",
        "\n",
        "Create an empty dictionary, which will eventually map the report category to the number of incidents:"
      ]
    },
    {
      "cell_type": "code",
      "metadata": {
        "id": "4hm4xYLLhSZ_"
      },
      "source": [
        "categories_freq = {}"
      ],
      "execution_count": 12,
      "outputs": []
    },
    {
      "cell_type": "markdown",
      "metadata": {
        "id": "7sg6m7o4hSaB"
      },
      "source": [
        "Iterate over all reports in the list, and extract the category string from each report. If the category string (the 'key') is already in the dictionary increment the associated counter. Otherwise add the key to the dictionary, and associate the value 1."
      ]
    },
    {
      "cell_type": "code",
      "metadata": {
        "id": "iTJ-WoNMhSaB",
        "outputId": "f4b540fa-940a-4492-ac2f-d80d9573e1cb",
        "colab": {
          "base_uri": "https://localhost:8080/",
          "height": 409
        }
      },
      "source": [
        "import numpy as np\n",
        "from matplotlib import pyplot as plt\n",
        "\n",
        "# Iterate over all reports\n",
        "for report in crime_data:\n",
        "    # Get category type\n",
        "    category = report['category']\n",
        "    \n",
        "    if category in categories_freq:\n",
        "        categories_freq[category] += 1\n",
        "    else:\n",
        "        categories_freq[category] = 1\n",
        "\n",
        "print(categories_freq)\n",
        "\n",
        "x = np.arange(len(categories_freq))\n",
        "plt.bar(x, list(categories_freq.values()))\n",
        "plt.xticks(x, tuple(categories_freq.keys()), rotation='vertical')\n",
        "plt.show()"
      ],
      "execution_count": 20,
      "outputs": [
        {
          "output_type": "stream",
          "text": [
            "{'anti-social-behaviour': 296, 'bicycle-theft': 358, 'burglary': 54, 'criminal-damage-arson': 108, 'drugs': 14, 'other-theft': 144, 'possession-of-weapons': 10, 'public-order': 86, 'robbery': 14, 'shoplifting': 156, 'theft-from-the-person': 40, 'vehicle-crime': 62, 'violent-crime': 280, 'other-crime': 24}\n"
          ],
          "name": "stdout"
        },
        {
          "output_type": "display_data",
          "data": {
            "image/png": "[encoded data removed]",
            "text/plain": [
              "<Figure size 432x288 with 1 Axes>"
            ]
          },
          "metadata": {
            "tags": [],
            "needs_background": "light"
          }
        }
      ]
    },
    {
      "cell_type": "markdown",
      "metadata": {
        "id": "dA4XtVL0hSaF"
      },
      "source": [
        "The crime categories are the dictionary keys, which can be extracted using\n",
        "```python\n",
        "list(categories_freq.keys())\n",
        "```"
      ]
    },
    {
      "cell_type": "markdown",
      "metadata": {
        "id": "x_MMgqZAhSaF"
      },
      "source": [
        "When adding the tick labels (crime categories), it may be necessary to rotate the labels, e.g.:\n",
        "```python\n",
        "plt.xticks(x_pos, categories, rotation='vertical')\n",
        "```"
      ]
    },
    {
      "cell_type": "markdown",
      "metadata": {
        "id": "3BR704KrhSaG"
      },
      "source": [
        "### Extensions (optional)\n",
        "\n",
        "\n",
        "1. Probe the retrieved data to build a set of all crime categories in the data set.\n",
        "2. Explore the temporal (time) aspect of the data. Thinks of ways to represent the change in reported incident \n",
        "   types over time.\n",
        "3. Explore what other data you can retriev from https://data.police.uk/docs/."
      ]
    },
    {
      "cell_type": "markdown",
      "metadata": {
        "id": "odbLo1pohSaG"
      },
      "source": [
        "### Solution\n",
        "\n",
        "There are many ways this exercise could be programmed, and there is some choice in data structures.\n",
        "\n",
        "Build (a) a list of crime categories and (b) the number of reports in each category:"
      ]
    },
    {
      "cell_type": "code",
      "metadata": {
        "deletable": false,
        "nbgrader": {
          "cell_type": "code",
          "checksum": "145d881634d2ee6b1b99db3d6e93f9ba",
          "grade": false,
          "grade_id": "cell-46ab1ae5cb776dfd",
          "locked": false,
          "schema_version": 3,
          "solution": true
        },
        "id": "-EZz_P_ThSaG",
        "outputId": "baf6e58c-e5e6-4ab1-d11d-ccfa95ed9e97",
        "colab": {
          "base_uri": "https://localhost:8080/",
          "height": 72
        }
      },
      "source": [
        "import json, pprint, requests\n",
        "\n",
        "def find_crimes(year: int, month: int, long: float, lat: float, category: str = None):\n",
        "  # Catch incorrect syntax\n",
        "  if month >= 1 and month <= 9:\n",
        "    year_month = str(year) + '-0' + str(month)\n",
        "  elif month >= 10 and month <= 12:\n",
        "    year_month = str(year) + '-' + str(month)\n",
        "  else:\n",
        "    raise SyntaxError('Month must be 1 or 2 digits e.g. 6 for June, 08 for August or 11 for November.')\n",
        "\n",
        "  url = \"https://data.police.uk/api/crimes-street/all-crime?lat={}&lng={}&date={}\".format(long, lat, year_month)\n",
        "  r = requests.get(url)\n",
        "  crime_data = r.json()\n",
        "  if not category == None:\n",
        "    filtered_data = []\n",
        "    for crime in crime_data:\n",
        "      if crime['category'] == category:\n",
        "        filtered_data.append(crime)\n",
        "    return filtered_data\n",
        "  return crime_data\n",
        "\n",
        "categories_freq = {}\n",
        "for report in find_crimes(2019, 5, 52.205277, 0.119117):\n",
        "    # Get category type\n",
        "    category = report['category']\n",
        "    \n",
        "    if category in categories_freq:\n",
        "        categories_freq[category] += 1\n",
        "    else:\n",
        "        categories_freq[category] = 1\n",
        "\n",
        "print('Categories of crime are {}'.format(list(categories_freq.keys())))\n",
        "print('Numbers of each crime are {}'.format(list(categories_freq.values())))"
      ],
      "execution_count": 19,
      "outputs": [
        {
          "output_type": "stream",
          "text": [
            "Categories of crime are ['anti-social-behaviour', 'bicycle-theft', 'burglary', 'criminal-damage-arson', 'drugs', 'other-theft', 'possession-of-weapons', 'public-order', 'robbery', 'shoplifting', 'theft-from-the-person', 'vehicle-crime', 'violent-crime', 'other-crime']\n",
            "Numbers of each crime are [148, 179, 27, 54, 7, 72, 5, 43, 7, 78, 20, 31, 140, 12]\n"
          ],
          "name": "stdout"
        }
      ]
    },
    {
      "cell_type": "markdown",
      "metadata": {
        "id": "OqlxbXYQhSaI"
      },
      "source": [
        "Produce a bar chart:"
      ]
    },
    {
      "cell_type": "code",
      "metadata": {
        "deletable": false,
        "nbgrader": {
          "cell_type": "code",
          "checksum": "bbdc0b6b0c011ea9bc0ae07a20c8d1cc",
          "grade": false,
          "grade_id": "cell-97e738a80f71d412",
          "locked": false,
          "schema_version": 3,
          "solution": true
        },
        "id": "wfojz1jchSaJ",
        "outputId": "77269a30-8d4a-4de8-c05e-a2b21790ccc5",
        "colab": {
          "base_uri": "https://localhost:8080/",
          "height": 372
        }
      },
      "source": [
        "# Create an array with the position of each bar along the x-axis\n",
        "x_pos = np.arange(len(categories_freq))\n",
        "\n",
        "plt.bar(x_pos, list(categories_freq.values()))\n",
        "plt.xticks(x_pos, tuple(categories_freq.keys()), rotation='vertical')\n",
        "plt.show()\n",
        "\n"
      ],
      "execution_count": 22,
      "outputs": [
        {
          "output_type": "display_data",
          "data": {
            "image/png": "[encoded data removed]",
            "text/plain": [
              "<Figure size 432x288 with 1 Axes>"
            ]
          },
          "metadata": {
            "tags": [],
            "needs_background": "light"
          }
        }
      ]
    },
    {
      "cell_type": "markdown",
      "metadata": {
        "id": "EyH6F6TLhSaK"
      },
      "source": [
        "Here is a compact version using dictionary member functions (it will be visible when solutions are released)."
      ]
    },
    {
      "cell_type": "code",
      "metadata": {
        "deletable": false,
        "nbgrader": {
          "cell_type": "code",
          "checksum": "55eeb841995a9fb1f052bda09e4542fd",
          "grade": false,
          "grade_id": "cell-b0fc6fd94f3c06b9",
          "locked": false,
          "schema_version": 3,
          "solution": true
        },
        "id": "WmB7d-oghSaL"
      },
      "source": [
        "# YOUR CODE HERE\n",
        "raise NotImplementedError()"
      ],
      "execution_count": null,
      "outputs": []
    }
  ]
}