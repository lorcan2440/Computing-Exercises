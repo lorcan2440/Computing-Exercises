{
  "nbformat": 4,
  "nbformat_minor": 0,
  "metadata": {
    "kernelspec": {
      "display_name": "Python 3",
      "language": "python",
      "name": "python3"
    },
    "language_info": {
      "codemirror_mode": {
        "name": "ipython",
        "version": 3
      },
      "file_extension": ".py",
      "mimetype": "text/x-python",
      "name": "python",
      "nbconvert_exporter": "python",
      "pygments_lexer": "ipython3",
      "version": "3.8.5"
    },
    "colab": {
      "name": "Copy of 09 Exercises.ipynb",
      "provenance": [],
      "include_colab_link": true
    }
  },
  "cells": [
    {
      "cell_type": "markdown",
      "metadata": {
        "id": "view-in-github",
        "colab_type": "text"
      },
      "source": [
        "<a href=\"https://colab.research.google.com/github/lorcan2440/Computing-Exercises/blob/main/Copy_of_09_Exercises.ipynb\" target=\"_parent\"><img src=\"https://colab.research.google.com/assets/colab-badge.svg\" alt=\"Open In Colab\"/></a>"
      ]
    },
    {
      "cell_type": "markdown",
      "metadata": {
        "id": "QoDIp1xUXgr0"
      },
      "source": [
        "## Exercise 09.1 (checking data validity)\n",
        "\n",
        "The Fibonacci series is valid only for $n \\ge 0$. Add to the Fibonacci function in this notebook a check that raises an exception if $n < 0$. Try some invalid data cases to check that an exception is raised.\n",
        "\n",
        "*Optional:* Use `pytest` to test that an exception *is* raised for some $n < 0$ cases."
      ]
    },
    {
      "cell_type": "code",
      "metadata": {
        "deletable": false,
        "nbgrader": {
          "cell_type": "code",
          "checksum": "3bf4474f254eb94df13368bcbdfbbd25",
          "grade": false,
          "grade_id": "cell-982c3611466532a2",
          "locked": false,
          "schema_version": 3,
          "solution": true
        },
        "id": "evLRRLkVXgr1"
      },
      "source": [
        "def f(n: int): \n",
        "  \"Compute the nth Fibonacci number using recursion\"\n",
        "  if n == 0:\n",
        "    return 0\n",
        "  elif n == 1:\n",
        "    return 1\n",
        "  elif n > 1:\n",
        "    return f(n - 1) + f(n - 2)\n",
        "  else:\n",
        "    raise ValueError('Input must be an integer greater than or equal to zero')"
      ],
      "execution_count": 3,
      "outputs": []
    },
    {
      "cell_type": "code",
      "metadata": {
        "deletable": false,
        "editable": false,
        "nbgrader": {
          "cell_type": "code",
          "checksum": "9f9ac524212d33e97978ac73892d6d39",
          "grade": true,
          "grade_id": "cell-9b97ea3e85d77f4a",
          "locked": true,
          "points": 0,
          "schema_version": 3,
          "solution": false
        },
        "id": "feHAeIclXgr4"
      },
      "source": [
        "# Perform some tests    \n",
        "assert f(0) == 0\n",
        "assert f(1) == 1\n",
        "assert f(2) == 1\n",
        "assert f(3) == 2\n",
        "assert f(10) == 55\n",
        "assert f(15) == 610\n",
        "\n",
        "# Check that ValueError is raised for n < 0\n",
        "import pytest\n",
        "with pytest.raises(ValueError):\n",
        "    f(-1)\n",
        "with pytest.raises(ValueError):\n",
        "    f(-2)"
      ],
      "execution_count": 4,
      "outputs": []
    },
    {
      "cell_type": "markdown",
      "metadata": {
        "deletable": false,
        "editable": false,
        "nbgrader": {
          "cell_type": "markdown",
          "checksum": "e95262d50b5fedef7da21e1741ff513d",
          "grade": false,
          "grade_id": "cell-69c78c0ffc19db36",
          "locked": true,
          "schema_version": 3,
          "solution": false
        },
        "id": "K20sopNlXgr7"
      },
      "source": [
        "## Exercise 09.2 (raising exceptions)\n",
        "\n",
        "Modify your program from the bisection exercise in Activity 04 to raise an error if the maximum number of iterations is exceeded. Reduce the maximum allowed iterations to test that an exception is raised.\n",
        "\n",
        "Add any other checks on the input data that you think are appropriate."
      ]
    },
    {
      "cell_type": "code",
      "metadata": {
        "deletable": false,
        "nbgrader": {
          "cell_type": "code",
          "checksum": "54a2b2c493794b64ac8c709d3b554426",
          "grade": false,
          "grade_id": "cell-ca2c3ee62ad3b956",
          "locked": false,
          "schema_version": 3,
          "solution": true
        },
        "id": "lfAJttkNXgr7"
      },
      "source": [
        "def my_f(x):\n",
        "    \"Evaluate polynomial function\"\n",
        "    return x**3 - 6*x**2 + 4*x + 12\n",
        "\n",
        "def compute_root(my_f, x0, x1, tol, max_it):\n",
        "  f = lambda x: my_f(x)\n",
        "  i = 0\n",
        "  a = x0\n",
        "  b = x1\n",
        "  if a > b:\n",
        "    a, b = b, a\n",
        "  f_mid = 1 + tol\n",
        "  while i < max_it and abs(f_mid) > tol:\n",
        "    x_mid = (a + b)/2\n",
        "    f_0 = f(a)\n",
        "    f_mid = f(x_mid)\n",
        "\n",
        "    if f_0 * f_mid < 0:\n",
        "      b = x_mid\n",
        "    else:\n",
        "      a = x_mid\n",
        "    i += 1\n",
        "  if i == max_it and abs(f_mid) > tol:\n",
        "    raise RuntimeError('Bisection algorithm did not converge fast enough.')\n",
        "\n",
        "  return x_mid, f_mid, i"
      ],
      "execution_count": 7,
      "outputs": []
    },
    {
      "cell_type": "code",
      "metadata": {
        "deletable": false,
        "editable": false,
        "nbgrader": {
          "cell_type": "code",
          "checksum": "245f74804add47d7a569230c5677fb0a",
          "grade": true,
          "grade_id": "cell-f6cf91ed5dd1736b",
          "locked": true,
          "points": 0,
          "schema_version": 3,
          "solution": false
        },
        "id": "cRQ7MiAuXgr_"
      },
      "source": [
        "# Test with max_it = 30\n",
        "x, f, num_it = compute_root(my_f, x0=3, x1=6, tol=1.0e-6, max_it=30)\n",
        "\n",
        "# Test with max_it = 20\n",
        "with pytest.raises(RuntimeError):\n",
        "    x, f, num_it = compute_root(my_f, x0=3, x1=6, tol=1.0e-6, max_it=20)"
      ],
      "execution_count": 9,
      "outputs": []
    }
  ]
}