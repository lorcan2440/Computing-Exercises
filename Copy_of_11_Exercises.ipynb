{
  "nbformat": 4,
  "nbformat_minor": 0,
  "metadata": {
    "kernelspec": {
      "display_name": "Python 3",
      "language": "python",
      "name": "python3"
    },
    "language_info": {
      "codemirror_mode": {
        "name": "ipython",
        "version": 3
      },
      "file_extension": ".py",
      "mimetype": "text/x-python",
      "name": "python",
      "nbconvert_exporter": "python",
      "pygments_lexer": "ipython3",
      "version": "3.8.5"
    },
    "colab": {
      "name": "Copy of 11 Exercises.ipynb",
      "provenance": [],
      "include_colab_link": true
    }
  },
  "cells": [
    {
      "cell_type": "markdown",
      "metadata": {
        "id": "view-in-github",
        "colab_type": "text"
      },
      "source": [
        "<a href=\"https://colab.research.google.com/github/lorcan2440/Computing-Exercises/blob/main/Copy_of_11_Exercises.ipynb\" target=\"_parent\"><img src=\"https://colab.research.google.com/assets/colab-badge.svg\" alt=\"Open In Colab\"/></a>"
      ]
    },
    {
      "cell_type": "markdown",
      "metadata": {
        "id": "N2-RA5PSRvCU"
      },
      "source": [
        "Import the modules that will be used."
      ]
    },
    {
      "cell_type": "code",
      "metadata": {
        "id": "1sfh3hFwRvCV"
      },
      "source": [
        "import numpy as np\n",
        "import matplotlib\n",
        "import matplotlib.pyplot as plt\n",
        "\n",
        "%matplotlib inline"
      ],
      "execution_count": 1,
      "outputs": []
    },
    {
      "cell_type": "markdown",
      "metadata": {
        "deletable": false,
        "editable": false,
        "nbgrader": {
          "cell_type": "markdown",
          "checksum": "1edc226b40602fb86b89bc96c778bd2e",
          "grade": false,
          "grade_id": "cell-f3291e5d760308db",
          "locked": true,
          "schema_version": 3,
          "solution": false
        },
        "id": "bCwTNL8bRvCY"
      },
      "source": [
        "## Exercise 11.1\n",
        "\n",
        "Determine by counting the number of mathematical operations the complexity of:\n",
        "\n",
        "1. Dot product between two vectors\n",
        "1. Matrix-vector product\n",
        "1. Matrix-matrix product\n",
        "\n",
        "for vectors of length $n$ and matrices of size $n \\times n$.\n",
        "\n",
        "This is a reasoning exercise - you do not need to write a program. Express your answers in text and using LaTeX in a Markdown cell.\n",
        "\n",
        "\n",
        "### Optional\n",
        "\n",
        "Test the complexity experimentally with your own functions for performing the operations, and\n",
        "with the NumPy 'vectorised' equivalents."
      ]
    },
    {
      "cell_type": "markdown",
      "metadata": {
        "deletable": false,
        "nbgrader": {
          "cell_type": "markdown",
          "checksum": "62a921e42154198d66dc82641af170e2",
          "grade": true,
          "grade_id": "cell-8460df1e09d7f0e7",
          "locked": false,
          "points": 0,
          "schema_version": 3,
          "solution": true
        },
        "id": "ZY_wDUCuRvCZ"
      },
      "source": [
        "1. Dot product: $ O(n) $\n",
        "2. Matrix vector product: $ O(n^2) $\n",
        "3. Matrix matrix product: $ O(n^3) $"
      ]
    },
    {
      "cell_type": "markdown",
      "metadata": {
        "id": "vuJT_IMMRvCZ"
      },
      "source": [
        "## Exercise 11.2\n",
        "\n",
        "For the recursive factorial algorithm in Activity 04, determine the algorithmic complexity by inspecting your implementation of the algorithm. Test this against numerical experiments."
      ]
    },
    {
      "cell_type": "markdown",
      "metadata": {
        "id": "wmSGqElrRvCZ"
      },
      "source": [
        "### Solution"
      ]
    },
    {
      "cell_type": "markdown",
      "metadata": {
        "id": "Foq4ev2FRvCa"
      },
      "source": [
        "Recall the factorial algorithm from Activity 04.4:"
      ]
    },
    {
      "cell_type": "code",
      "metadata": {
        "id": "6laAeRo0RvCa"
      },
      "source": [
        "def factorial(n):\n",
        "    if n == 0:\n",
        "        return 1\n",
        "    else:\n",
        "        return factorial(n - 1)*n"
      ],
      "execution_count": 23,
      "outputs": []
    },
    {
      "cell_type": "markdown",
      "metadata": {
        "id": "KILz1CbORvCc"
      },
      "source": [
        "The function calls itself (recursively) $n$ times, hence it has complexity $O(n)$. We test this below and plot\n",
        "the times."
      ]
    },
    {
      "cell_type": "code",
      "metadata": {
        "deletable": false,
        "nbgrader": {
          "cell_type": "code",
          "checksum": "ac9c61aee9ad5e1348d3b3892814724e",
          "grade": false,
          "grade_id": "cell-99456b1178be2bfe",
          "locked": false,
          "schema_version": 3,
          "solution": true
        },
        "id": "afDmmUvHRvCd",
        "outputId": "3fa8aa68-f65a-4d12-d78a-69e4f3f10237",
        "colab": {
          "base_uri": "https://localhost:8080/",
          "height": 279
        }
      },
      "source": [
        "from timeit import default_timer as timer\n",
        "import numpy as np\n",
        "\n",
        "trial_values = [n for n in range(400)]\n",
        "times = []\n",
        "for n in trial_values:\n",
        "  times_unit = []\n",
        "  for trial in range(10):\n",
        "    start = timer()\n",
        "    y = factorial(n)\n",
        "    times_unit.append(timer() - start)\n",
        "  times.append(sum(times_unit)/len(times_unit))\n",
        "\n",
        "m, b = np.polyfit(trial_values, times, 1)\n",
        "m, b = float(m), float(b)\n",
        "\n",
        "plt.plot(trial_values, times)\n",
        "plt.plot(trial_values, m*np.array(trial_values) + b, color = 'green', linestyle = 'dashed')\n",
        "plt.legend([\"Function time\", \"Line of best fit\"])\n",
        "plt.xlabel('n')\n",
        "plt.ylabel('t')\n",
        "plt.show()"
      ],
      "execution_count": 37,
      "outputs": [
        {
          "output_type": "display_data",
          "data": {
            "image/png": "[encoded data removed]",
            "text/plain": [
              "<Figure size 432x288 with 1 Axes>"
            ]
          },
          "metadata": {
            "tags": [],
            "needs_background": "light"
          }
        }
      ]
    },
    {
      "cell_type": "markdown",
      "metadata": {
        "id": "38UYCGvgRvCf"
      },
      "source": [
        "## Exercise 11.3\n",
        "\n",
        "Determine experimentally the complexity of computing the determinant of a matrix. You can generate an $n \\times n$ matrix using:"
      ]
    },
    {
      "cell_type": "code",
      "metadata": {
        "id": "YxTTV_3VRvCg"
      },
      "source": [
        "n = 100\n",
        "A = np.random.rand(n, n)"
      ],
      "execution_count": 38,
      "outputs": []
    },
    {
      "cell_type": "markdown",
      "metadata": {
        "id": "lRp-yX-DRvCi"
      },
      "source": [
        "and the determinant can be computed by:"
      ]
    },
    {
      "cell_type": "code",
      "metadata": {
        "id": "UfUAnmgWRvCi"
      },
      "source": [
        "det = np.linalg.slogdet(A)"
      ],
      "execution_count": 39,
      "outputs": []
    },
    {
      "cell_type": "markdown",
      "metadata": {
        "id": "4jV8zHRmRvCk"
      },
      "source": [
        "Be sure that you test for sufficiently large $n$ to get into the 'large' $n$ regime."
      ]
    },
    {
      "cell_type": "markdown",
      "metadata": {
        "id": "z8fxHJu9RvCl"
      },
      "source": [
        "### Solution"
      ]
    },
    {
      "cell_type": "markdown",
      "metadata": {
        "id": "beGNxwZkRvCl"
      },
      "source": [
        "Time computation of determinant:"
      ]
    },
    {
      "cell_type": "code",
      "metadata": {
        "deletable": false,
        "nbgrader": {
          "cell_type": "code",
          "checksum": "0b0d621ce3dc60bcd922f628646b0329",
          "grade": false,
          "grade_id": "cell-64f74c9716976d38",
          "locked": false,
          "schema_version": 3,
          "solution": true
        },
        "id": "yzvJVy33RvCl"
      },
      "source": [
        "from timeit import default_timer as timer\n",
        "import numpy as np\n",
        "\n",
        "trial_values = 2**np.arange(2, 12)\n",
        "times = []\n",
        "for n in trial_values:\n",
        "  M = np.random.rand(n, n)\n",
        "  times_unit = []\n",
        "  for trial in range(10):\n",
        "    start = timer()\n",
        "    y = np.linalg.slogdet(M)\n",
        "    times_unit.append(timer() - start)\n",
        "  times.append(sum(times_unit)/len(times_unit))"
      ],
      "execution_count": 54,
      "outputs": []
    },
    {
      "cell_type": "markdown",
      "metadata": {
        "id": "K8Q0EA1wRvCo"
      },
      "source": [
        "Plot result:"
      ]
    },
    {
      "cell_type": "code",
      "metadata": {
        "deletable": false,
        "nbgrader": {
          "cell_type": "code",
          "checksum": "3f6362a9a7dc358b5987cd42aff7d063",
          "grade": false,
          "grade_id": "cell-4e4b2cc52b08f077",
          "locked": false,
          "schema_version": 3,
          "solution": true
        },
        "id": "-QlVsZTHRvCo",
        "outputId": "3a846d57-3632-44ec-9d33-adc7c18bf4fa",
        "colab": {
          "base_uri": "https://localhost:8080/",
          "height": 318
        }
      },
      "source": [
        "m, b = np.polyfit(np.log(trial_values), np.log(times), 1)\n",
        "m, b = float(m), float(b)\n",
        "\n",
        "plt.loglog(trial_values, np.array(times))\n",
        "plt.plot(trial_values, np.exp(np.poly1d(np.polyfit(np.log(trial_values), np.log(times), 1))(np.log(trial_values))),\n",
        "         color = 'green', linestyle = 'dashed')\n",
        "plt.legend([\"Function time\", \"Line of best fit\"])\n",
        "plt.xlabel('n')\n",
        "plt.ylabel('t')\n",
        "plt.show()\n",
        "\n",
        "print('Appears to curve upwards even on a log-log plot, implying faster than polynomial growth rate.')\n",
        "print('Could be O(2^n), O(n!) etc.')"
      ],
      "execution_count": 55,
      "outputs": [
        {
          "output_type": "display_data",
          "data": {
            "image/png": "[encoded data removed]",
            "text/plain": [
              "<Figure size 432x288 with 1 Axes>"
            ]
          },
          "metadata": {
            "tags": [],
            "needs_background": "light"
          }
        },
        {
          "output_type": "stream",
          "text": [
            "Appears to curve upwards even on a log-log plot, implying faster than polynomial growth rate.\n",
            "Could be O(2^n), O(n!) etc.\n"
          ],
          "name": "stdout"
        }
      ]
    }
  ]
}