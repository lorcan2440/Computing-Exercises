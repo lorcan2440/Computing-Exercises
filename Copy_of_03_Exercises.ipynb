{
  "nbformat": 4,
  "nbformat_minor": 0,
  "metadata": {
    "kernelspec": {
      "display_name": "Python 3",
      "language": "python",
      "name": "python3"
    },
    "language_info": {
      "codemirror_mode": {
        "name": "ipython",
        "version": 3
      },
      "file_extension": ".py",
      "mimetype": "text/x-python",
      "name": "python",
      "nbconvert_exporter": "python",
      "pygments_lexer": "ipython3",
      "version": "3.8.5"
    },
    "colab": {
      "name": "Copy of 03 Exercises.ipynb",
      "provenance": [],
      "include_colab_link": true
    }
  },
  "cells": [
    {
      "cell_type": "markdown",
      "metadata": {
        "id": "view-in-github",
        "colab_type": "text"
      },
      "source": [
        "<a href=\"https://colab.research.google.com/github/lorcan2440/Computing-Exercises/blob/main/Copy_of_03_Exercises.ipynb\" target=\"_parent\"><img src=\"https://colab.research.google.com/assets/colab-badge.svg\" alt=\"Open In Colab\"/></a>"
      ]
    },
    {
      "cell_type": "markdown",
      "metadata": {
        "deletable": false,
        "editable": false,
        "nbgrader": {
          "cell_type": "markdown",
          "checksum": "8ceeabcb46de5ad626384fc60e218d16",
          "grade": false,
          "grade_id": "cell-bccc9a5624d0e0f9",
          "locked": true,
          "schema_version": 3,
          "solution": false
        },
        "id": "cjgbeittNbuG"
      },
      "source": [
        "## Exercise 03.1\n",
        "\n",
        "Compare the computed values of \n",
        "\n",
        "$$ \n",
        "d_0 = a \\cdot b + a  \\cdot  c\n",
        "$$\n",
        "\n",
        "and \n",
        "\n",
        "$$ \n",
        "d_1 = a \\cdot (b + c)\n",
        "$$\n",
        "\n",
        "when $a = 100$, $b = 0.1$ and $c = 0.2$. Store $d_{0}$ in the variable `d0` and $d_{1}$ in the variable `d1`.\n",
        "\n",
        "\n",
        "Try checking for equality, e.g. `print(d0 == d1)`. "
      ]
    },
    {
      "cell_type": "code",
      "metadata": {
        "deletable": false,
        "nbgrader": {
          "cell_type": "code",
          "checksum": "30e30b82e08f44a2f3f834314203be69",
          "grade": false,
          "grade_id": "cell-447110c225124fc4",
          "locked": false,
          "schema_version": 3,
          "solution": true
        },
        "id": "AVZV9P2oNbuH",
        "outputId": "551ac1bc-1ee8-450f-f1ac-7d654b7b7105",
        "colab": {
          "base_uri": "https://localhost:8080/",
          "height": 69
        }
      },
      "source": [
        "a, b, c = 100, 0.1, 0.2\n",
        "d0 = a * b + a * c\n",
        "d1 = a * (b + c)\n",
        "print(d0)\n",
        "print(d1)\n",
        "print(d0 == d1)"
      ],
      "execution_count": 3,
      "outputs": [
        {
          "output_type": "stream",
          "text": [
            "30.0\n",
            "30.000000000000004\n",
            "False\n"
          ],
          "name": "stdout"
        }
      ]
    },
    {
      "cell_type": "code",
      "metadata": {
        "deletable": false,
        "editable": false,
        "nbgrader": {
          "cell_type": "code",
          "checksum": "56a58c181d43d8dbad56dff6ed45377a",
          "grade": true,
          "grade_id": "cell-91f2d89d88ea86c0",
          "locked": true,
          "points": 0,
          "schema_version": 3,
          "solution": false
        },
        "id": "awleT0viNbuK"
      },
      "source": [
        "assert d0 == 30.0\n",
        "assert d1 != 30.0\n",
        "assert d0 != d1"
      ],
      "execution_count": 2,
      "outputs": []
    },
    {
      "cell_type": "markdown",
      "metadata": {
        "id": "yO4XBmGBNbuO"
      },
      "source": [
        "## Exercise 03.2\n",
        "\n",
        "For the polynomial \n",
        "\\begin{align}\n",
        "f(x, y) &= (x + y)^{6} \n",
        "\\\\\n",
        "&=  x^6 + 6x^{5}y + 15x^{4}y^{2} + 20x^{3}y^{3} + 15x^{2}y^{4} + 6xy^{5} + y^{6}\n",
        "\\end{align}\n",
        "compute $f$ using: (i) the compact form $(x + y)^{6}$; and (ii) the expanded form for:\n",
        "\n",
        "(a) $x = 10$ and $y = 10.1$\n",
        "\n",
        "(b) $x = 10$ and $y = -10.1$\n",
        "\n",
        "and compare the number of significant digits for which the answers are the same.\n",
        "Store the answer for the compact version using the variable `f0`, and using the variable `f1` for the expanded version.\n",
        "\n",
        "For case (b), compare the computed and analytical solutions and consider the relative error.\n",
        "Which approach would you recommend for computing this expression?"
      ]
    },
    {
      "cell_type": "markdown",
      "metadata": {
        "id": "pFHWwj_bNbuP"
      },
      "source": [
        "#### (a) $x = 10$ and $y = 10.1$"
      ]
    },
    {
      "cell_type": "code",
      "metadata": {
        "deletable": false,
        "nbgrader": {
          "cell_type": "code",
          "checksum": "908f40d0d9b9a84a5daeb5f1d2a18a3c",
          "grade": false,
          "grade_id": "cell-e8428e3de87d5500",
          "locked": false,
          "schema_version": 3,
          "solution": true
        },
        "id": "LlPZEGuzNbuP",
        "outputId": "456b0813-2c44-4ad1-8058-dd3473aa0b74",
        "colab": {
          "base_uri": "https://localhost:8080/",
          "height": 52
        }
      },
      "source": [
        "x = 10.0\n",
        "y = 10.1\n",
        "\n",
        "f0 = (x + y)**6\n",
        "f1 = x**6 + 6*x**5 * y + 15*x**4 * y**2 + 20*x**3 * y**3 + 15 * x**2 * y**4 + 6*x*y**5 + y**6\n",
        "i = 0\n",
        "decimal_difference = False\n",
        "try:\n",
        "  while str(f0)[i] == str(f1)[i] or i > 100:\n",
        "    if not str(f0)[i] == '.':\n",
        "      decimal_difference = True\n",
        "    i += 1\n",
        "\n",
        "  if decimal_difference:\n",
        "    i -= 1\n",
        "except IndexError:\n",
        "  pass\n",
        "\n",
        "print(f0, f1)\n",
        "print('Equivalent to {} significant digits'.format(i))"
      ],
      "execution_count": 12,
      "outputs": [
        {
          "output_type": "stream",
          "text": [
            "65944160.60120103 65944160.601201\n",
            "Equivalent to 15 significant digits\n"
          ],
          "name": "stdout"
        }
      ]
    },
    {
      "cell_type": "code",
      "metadata": {
        "deletable": false,
        "editable": false,
        "nbgrader": {
          "cell_type": "code",
          "checksum": "a4940106bcc4e616b922050d78981780",
          "grade": true,
          "grade_id": "cell-55d184514edf3a67",
          "locked": true,
          "points": 0,
          "schema_version": 3,
          "solution": false
        },
        "id": "_uYztvdZNbuR"
      },
      "source": [
        "import math\n",
        "assert math.isclose(f0, 65944160.60120103, rel_tol=1e-10)\n",
        "assert math.isclose(f1, 65944160.601201, rel_tol=1e-10)"
      ],
      "execution_count": 13,
      "outputs": []
    },
    {
      "cell_type": "markdown",
      "metadata": {
        "id": "UvtlPWEfNbuT"
      },
      "source": [
        "#### (b) $x = 10$ and $y = -10.1$"
      ]
    },
    {
      "cell_type": "code",
      "metadata": {
        "deletable": false,
        "nbgrader": {
          "cell_type": "code",
          "checksum": "e36a4f376b117817ad05ca02c2bda3c6",
          "grade": false,
          "grade_id": "cell-1561d20281ff67f6",
          "locked": false,
          "schema_version": 3,
          "solution": true
        },
        "id": "ZD8SmwDFNbuU",
        "outputId": "f0079a04-4f0c-42cc-b479-8cc810d611dd",
        "colab": {
          "base_uri": "https://localhost:8080/",
          "height": 104
        }
      },
      "source": [
        "x = 10.0\n",
        "y = -10.1\n",
        "\n",
        "f0 = (x + y)**6\n",
        "f1 = x**6 + 6*x**5 * y + 15*x**4 * y**2 + 20*x**3 * y**3 + 15 * x**2 * y**4 + 6*x*y**5 + y**6\n",
        "i = 0\n",
        "decimal_difference = False\n",
        "try:\n",
        "  while str(f0)[i] == str(f1)[i] or i > 100:\n",
        "    if not str(f0)[i] == '.':\n",
        "      decimal_difference = True\n",
        "    i += 1\n",
        "\n",
        "  if decimal_difference:\n",
        "    i -= 1\n",
        "except IndexError:\n",
        "  pass\n",
        "\n",
        "print(f0, f1)\n",
        "print('Equivalent to {} significant digits'.format(i))\n",
        "print('Error in compact form: {}'.format(abs(f0 - (-0.1)**6)))\n",
        "print('Error in expanded form: {}'.format(abs(f1 - (-0.1)**6)))\n",
        "print('Compact form is much more accurate')"
      ],
      "execution_count": 19,
      "outputs": [
        {
          "output_type": "stream",
          "text": [
            "9.999999999999788e-07 9.958166629076004e-07\n",
            "Equivalent to 2 significant digits\n",
            "Error in compact form: 2.159934015498466e-20\n",
            "Error in expanded form: 4.1833370923999754e-09\n",
            "Compact form is much more accurate\n"
          ],
          "name": "stdout"
        }
      ]
    },
    {
      "cell_type": "code",
      "metadata": {
        "id": "-c0NqO2cNbuW"
      },
      "source": [
        "import math\n",
        "assert math.isclose(f0, 1.0e-6, rel_tol=1e-10)\n",
        "assert math.isclose(f1, 1.0e-6, rel_tol=1e-2)"
      ],
      "execution_count": null,
      "outputs": []
    },
    {
      "cell_type": "markdown",
      "metadata": {
        "id": "rgnUqJi2NbuZ"
      },
      "source": [
        "## Exercise 03.3\n",
        "\n",
        "Consider the expression\n",
        "\n",
        "$$\n",
        "f = \\frac{1}{\\sqrt{x^2 - 1} - x}\n",
        "$$\n",
        "\n",
        "When $x$ is very large, the denominator approaches zero, which can cause problems.\n",
        "\n",
        "Try rephrasing the problem and eliminating the fraction by multiplying the numerator and denominator by $\\sqrt{x^2 - 1} + x$ and evaluate the two versions of the expression when:\n",
        "\n",
        "(a) $x = 1 \\times 10^{7}$\n",
        "\n",
        "(b) $x = 1 \\times 10^{9}$ (You may get a Python error for this case. Why?)"
      ]
    },
    {
      "cell_type": "markdown",
      "metadata": {
        "deletable": false,
        "editable": false,
        "nbgrader": {
          "cell_type": "markdown",
          "checksum": "c09b66f37bdee28ed52c52b6017f2cf2",
          "grade": false,
          "grade_id": "cell-53e1abf388eedabe",
          "locked": true,
          "schema_version": 3,
          "solution": false
        },
        "id": "6S0BUUaWNbuZ"
      },
      "source": [
        "#### (a) $x = 1 \\times 10^{7}$"
      ]
    },
    {
      "cell_type": "code",
      "metadata": {
        "deletable": false,
        "nbgrader": {
          "cell_type": "code",
          "checksum": "07ff77b706b18c392edfb815685a3bc3",
          "grade": true,
          "grade_id": "cell-149ac8791e7ff020",
          "locked": false,
          "points": 0,
          "schema_version": 3,
          "solution": true
        },
        "id": "3lfFd8I-Nbua",
        "outputId": "e34a37ba-2b94-4533-e632-12b0dee501e5",
        "colab": {
          "base_uri": "https://localhost:8080/",
          "height": 52
        }
      },
      "source": [
        "f = lambda x: 1/(math.sqrt(x**2 - 1) - x)\n",
        "f_modified = lambda x: -(math.sqrt(x**2 - 1) + x)\n",
        "\n",
        "print('Original function value: {}'.format(f(1e7)))\n",
        "print('Manipulated function value: {}'.format(f_modified(1e7)))"
      ],
      "execution_count": 20,
      "outputs": [
        {
          "output_type": "stream",
          "text": [
            "Original function value: -19884107.85185185\n",
            "Manipulated function value: -19999999.999999948\n"
          ],
          "name": "stdout"
        }
      ]
    },
    {
      "cell_type": "markdown",
      "metadata": {
        "deletable": false,
        "editable": false,
        "nbgrader": {
          "cell_type": "markdown",
          "checksum": "c2132f7f9da6593c6536e19435aeeab7",
          "grade": false,
          "grade_id": "cell-bcc863a1c5c8a6f8",
          "locked": true,
          "schema_version": 3,
          "solution": false
        },
        "id": "rO3rG7CjNbuc"
      },
      "source": [
        "#### (b) $x = 1 \\times 10^{9}$"
      ]
    },
    {
      "cell_type": "code",
      "metadata": {
        "deletable": false,
        "nbgrader": {
          "cell_type": "code",
          "checksum": "c2e05e9fd5ffdd3901355b52c90169ba",
          "grade": true,
          "grade_id": "cell-4ef986ef1f5838ba",
          "locked": false,
          "points": 0,
          "schema_version": 3,
          "solution": true
        },
        "id": "mRtawtVFNbuc",
        "outputId": "f197f90b-7412-4fad-9520-bf87c0bff677",
        "colab": {
          "base_uri": "https://localhost:8080/",
          "height": 104
        }
      },
      "source": [
        "f = lambda x: 1/(math.sqrt(x**2 - 1) - x)\n",
        "f_modified = lambda x: -(math.sqrt(x**2 - 1) + x)\n",
        "\n",
        "try:\n",
        "  print('Original function value: {}'.format(f(1e9)))\n",
        "  print('Manipulated function value: {}'.format(f_modified(1e9)))\n",
        "except ZeroDivisionError:\n",
        "  print('There was an error since when x^2 is calculated, its value is 10^18.') \n",
        "  print('When 1 is subtracted, the resulting number has more than 16 significant digits so cannot be stored exactly using 32 bit arithmetic.')\n",
        "  print('So then 10^18 and 10^18 - 1 are stored as the exact same number so their difference is zero, leading to division by zero error.')\n",
        "  print('Only the modified expression can be used since it does not involve dividing by the \"zero\".')\n",
        "  print('Manipulated function value: {}'.format(f_modified(1e7)))\n",
        "\n"
      ],
      "execution_count": 24,
      "outputs": [
        {
          "output_type": "stream",
          "text": [
            "There was an error since when x^2 + 1 is calculated, its value is 10^18.\n",
            "When 1 is subtracted, the resulting number has more than 16 significant digits so cannot be stored exactly using 32 bit arithmetic.\n",
            "So then 10^9 and 10^9 - 1 are stored as the exact same number so their difference is zero, leading to division by zero error.\n",
            "Only the modified expression can be used since it does not involve dividing by the \"zero\".\n",
            "Manipulated function value: -19999999.999999948\n"
          ],
          "name": "stdout"
        }
      ]
    }
  ]
}