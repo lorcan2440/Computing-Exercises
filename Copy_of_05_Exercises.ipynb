{
  "nbformat": 4,
  "nbformat_minor": 0,
  "metadata": {
    "kernelspec": {
      "display_name": "Python 3",
      "language": "python",
      "name": "python3"
    },
    "language_info": {
      "codemirror_mode": {
        "name": "ipython",
        "version": 3
      },
      "file_extension": ".py",
      "mimetype": "text/x-python",
      "name": "python",
      "nbconvert_exporter": "python",
      "pygments_lexer": "ipython3",
      "version": "3.8.5"
    },
    "colab": {
      "name": "Copy of 05 Exercises.ipynb",
      "provenance": [],
      "include_colab_link": true
    }
  },
  "cells": [
    {
      "cell_type": "markdown",
      "metadata": {
        "id": "view-in-github",
        "colab_type": "text"
      },
      "source": [
        "<a href=\"https://colab.research.google.com/github/lorcan2440/Computing-Exercises/blob/main/Copy_of_05_Exercises.ipynb\" target=\"_parent\"><img src=\"https://colab.research.google.com/assets/colab-badge.svg\" alt=\"Open In Colab\"/></a>"
      ]
    },
    {
      "cell_type": "markdown",
      "metadata": {
        "deletable": false,
        "editable": false,
        "nbgrader": {
          "cell_type": "markdown",
          "checksum": "78bec42b97a384da1258851020c6e40a",
          "grade": false,
          "grade_id": "cell-430d835796356075",
          "locked": true,
          "schema_version": 3,
          "solution": false
        },
        "id": "3MPM97gKRXMO"
      },
      "source": [
        "## Exercise 05.1 (random numbers)\n",
        "\n",
        "- Using the '`randint`' function from the '`random`' module (https://docs.python.org/3/library/random.html#random.randint), \n",
        "  develop a function `dice_roll` that emulates the roll of a dice with $n$ sides.\n",
        "\n",
        "- For $n=6$, devise and implement a test to check that it is a fair dice."
      ]
    },
    {
      "cell_type": "markdown",
      "metadata": {
        "deletable": false,
        "editable": false,
        "nbgrader": {
          "cell_type": "markdown",
          "checksum": "61e2a56d004d8d8ae67a9fcdfd923411",
          "grade": false,
          "grade_id": "cell-12092bd5f2adea76",
          "locked": true,
          "schema_version": 3,
          "solution": false
        },
        "id": "-ec2h31JRXMP"
      },
      "source": [
        "#### (a) Dice roll code:"
      ]
    },
    {
      "cell_type": "code",
      "metadata": {
        "deletable": false,
        "nbgrader": {
          "cell_type": "code",
          "checksum": "4bf12682ccd10675634d0e03f8d9e03f",
          "grade": false,
          "grade_id": "cell-70a83466894475ee",
          "locked": false,
          "schema_version": 3,
          "solution": true
        },
        "id": "wmHlsy7jRXMQ"
      },
      "source": [
        "import random\n",
        "\n",
        "def dice_roll(n):\n",
        "  return random.randint(1, n)"
      ],
      "execution_count": 5,
      "outputs": []
    },
    {
      "cell_type": "code",
      "metadata": {
        "deletable": false,
        "editable": false,
        "nbgrader": {
          "cell_type": "code",
          "checksum": "cc96b22a27a50764737999a68f55cee7",
          "grade": true,
          "grade_id": "cell-0970743b0c035f78",
          "locked": true,
          "points": 0,
          "schema_version": 3,
          "solution": false
        },
        "id": "U2FbpgKqRXMT"
      },
      "source": [
        "for n in range(1, 20):\n",
        "    for j in range(100):\n",
        "        value = dice_roll(n) \n",
        "        assert value >= 1 and value <= n"
      ],
      "execution_count": 6,
      "outputs": []
    },
    {
      "cell_type": "markdown",
      "metadata": {
        "deletable": false,
        "editable": false,
        "nbgrader": {
          "cell_type": "markdown",
          "checksum": "d5b750f62a69a71bfde95d5766edb830",
          "grade": false,
          "grade_id": "cell-8fd8c957cbce8e91",
          "locked": true,
          "schema_version": 3,
          "solution": false
        },
        "id": "1WOZNWdKRXMV"
      },
      "source": [
        "#### (b) Test for fairness"
      ]
    },
    {
      "cell_type": "code",
      "metadata": {
        "deletable": false,
        "nbgrader": {
          "cell_type": "code",
          "checksum": "3efa13bd797422d747fe0f35cd3668d5",
          "grade": true,
          "grade_id": "cell-0826760c62c21bff",
          "locked": false,
          "points": 0,
          "schema_version": 3,
          "solution": true
        },
        "id": "pWZzIXbHRXMV",
        "outputId": "a902489e-0022-4322-afb3-2efaaed2d61e",
        "colab": {
          "base_uri": "https://localhost:8080/",
          "height": 69
        }
      },
      "source": [
        "from math import isclose as close\n",
        "from numpy import var\n",
        "\n",
        "outcomes = []\n",
        "for trial in range(1000):\n",
        "  outcomes.append(dice_roll(6))\n",
        "  sample_mean = sum(outcomes) / len(outcomes)\n",
        "  sample_variance = var(outcomes)\n",
        "\n",
        "print('Sample mean is {}, true mean should be {}'.format(sample_mean, 3.5))\n",
        "print('Sample variance is {}, true variance should be {}'.format(sample_variance, 2.9166666666))\n",
        "if close(sample_mean, 3.5, rel_tol = 0.05) and close(sample_variance, 2.9166666666, rel_tol = 0.05):\n",
        "  print('Dice appears to have uniform distribution')\n",
        "else:\n",
        "  print('Dice may not be uniform or not enough trials to determine')"
      ],
      "execution_count": 26,
      "outputs": [
        {
          "output_type": "stream",
          "text": [
            "Sample mean is 3.425, true mean should be 3.5\n",
            "Sample variance is 2.924375, true variance should be 2.9166666666\n",
            "Dice appears to have uniform distribution\n"
          ],
          "name": "stdout"
        }
      ]
    },
    {
      "cell_type": "markdown",
      "metadata": {
        "deletable": false,
        "editable": false,
        "nbgrader": {
          "cell_type": "markdown",
          "checksum": "36bcc27ebc5dd171db48bb5806f8aaf6",
          "grade": false,
          "grade_id": "cell-007e984f33e27da1",
          "locked": true,
          "schema_version": 3,
          "solution": false
        },
        "id": "Bminxmf7RXMY"
      },
      "source": [
        "## Exercise 05.2 (data compression)\n",
        "\n",
        "For devices with limited memory, data compression can be important. Data compression is\n",
        "a field of its own, but with libraries we can compress (and uncompress) data easily without being expert in\n",
        "the details.\n",
        "\n",
        "Below is a program code for compressing a passage from Hamlet, by Shakespeare."
      ]
    },
    {
      "cell_type": "code",
      "metadata": {
        "deletable": false,
        "editable": false,
        "nbgrader": {
          "cell_type": "code",
          "checksum": "76fd7da1deb076195800c6277428ff17",
          "grade": false,
          "grade_id": "cell-3c2032bdba4a917a",
          "locked": true,
          "schema_version": 3,
          "solution": false
        },
        "id": "Bg_wfS6cRXMY",
        "outputId": "6a0fd9dc-bf45-4832-d816-671a7811ad9d",
        "colab": {
          "base_uri": "https://localhost:8080/",
          "height": 87
        }
      },
      "source": [
        "# Import the compression module\n",
        "import zlib\n",
        "\n",
        "# Create a string that we wish to compress\n",
        "text = \"\"\"\n",
        "Welcome, dear Rosencrantz and Guildenstern!\n",
        "Moreover that we much did long to see you,\n",
        "The need we have to use you did provoke\n",
        "Our hasty sending. Something have you heard\n",
        "Of Hamlet's transformation; so call it,\n",
        "Sith nor the exterior nor the inward man\n",
        "Resembles that it was. What it should be,\n",
        "More than his father's death, that thus hath put him\n",
        "So much from the understanding of himself,\n",
        "I cannot dream of: I entreat you both,\n",
        "That, being of so young days brought up with him,\n",
        "And sith so neighbour'd to his youth and havior,\n",
        "That you vouchsafe your rest here in our court\n",
        "Some little time: so by your companies\n",
        "To draw him on to pleasures, and to gather,\n",
        "So much as from occasion you may glean,\n",
        "Whether aught, to us unknown, afflicts him thus,\n",
        "That, open'd, lies within our remedy.\"\"\"\n",
        "\n",
        "# Convert Python string to bytes and check type\n",
        "text_bytes = text.encode(\"utf-8\")\n",
        "print(type(text_bytes))\n",
        "\n",
        "# Get number of bytes used to store string\n",
        "print(\"Number of bytes for uncompressed string:\", len(text_bytes))\n",
        "\n",
        "# Compress string and get number of byes used for compressed string\n",
        "text_comp = zlib.compress(text_bytes)\n",
        "print(\"Number of bytes for compressed string:\", len(text_comp))\n",
        "\n",
        "# Display the compression efficiency\n",
        "print(\"Compression efficiency: \", len(text_comp)/len(text_bytes))\n",
        "\n",
        "# Decompress the string\n",
        "text_decomp = zlib.decompress(text_comp)\n",
        "\n",
        "# Check that original and decompressed string are the same (more on aseret)\n",
        "if text != text_decomp.decode(\"utf-8\"):\n",
        "    print(\"Problem: original and decompressed string differ.\")"
      ],
      "execution_count": 27,
      "outputs": [
        {
          "output_type": "stream",
          "text": [
            "<class 'bytes'>\n",
            "Number of bytes for uncompressed string: 785\n",
            "Number of bytes for compressed string: 466\n",
            "Compression efficiency:  0.5936305732484076\n"
          ],
          "name": "stdout"
        }
      ]
    },
    {
      "cell_type": "markdown",
      "metadata": {
        "deletable": false,
        "editable": false,
        "nbgrader": {
          "cell_type": "markdown",
          "checksum": "0fe54aee845d95687889dc19b435ba77",
          "grade": false,
          "grade_id": "cell-f80062a015942c13",
          "locked": true,
          "schema_version": 3,
          "solution": false
        },
        "id": "zec-XPqURXMb"
      },
      "source": [
        "Using the above as a guide, examine the compression efficiency of \n",
        "\n",
        "1. Compressing one large string made up of the the passage by Shakespeare repeated 100 times; and\n",
        "2. Compressing a random string of the same length as the repeated Shakespeare passage.\n",
        "\n",
        "To help you, the below function generates random string of length `N`:"
      ]
    },
    {
      "cell_type": "code",
      "metadata": {
        "deletable": false,
        "editable": false,
        "nbgrader": {
          "cell_type": "code",
          "checksum": "28a57abbb021d924834ef4705e0f90bb",
          "grade": false,
          "grade_id": "cell-6e2a283ca091e187",
          "locked": true,
          "schema_version": 3,
          "solution": false
        },
        "id": "-wjW0imuRXMb",
        "outputId": "68216933-bdf2-4812-e401-9fc83c3b7f7c",
        "colab": {
          "base_uri": "https://localhost:8080/",
          "height": 35
        }
      },
      "source": [
        "import random\n",
        "import string\n",
        "\n",
        "def random_string(N):\n",
        "    return ''.join([random.choice(string.ascii_letters + string.digits) for n in range(N)])\n",
        "\n",
        "print(random_string(8))"
      ],
      "execution_count": 32,
      "outputs": [
        {
          "output_type": "stream",
          "text": [
            "TlgjpYKI\n"
          ],
          "name": "stdout"
        }
      ]
    },
    {
      "cell_type": "markdown",
      "metadata": {
        "id": "qu9fqnsVRXMd"
      },
      "source": [
        "### Solution"
      ]
    },
    {
      "cell_type": "code",
      "metadata": {
        "deletable": false,
        "editable": false,
        "nbgrader": {
          "cell_type": "code",
          "checksum": "f2cd0f781558ed7eb4413c8b2c2198cf",
          "grade": false,
          "grade_id": "cell-169d40e6f3aadc18",
          "locked": true,
          "schema_version": 3,
          "solution": false
        },
        "id": "PIxLBiAvRXMd"
      },
      "source": [
        "# Create a string\n",
        "text = \"\"\"\n",
        "Welcome, dear Rosencrantz and Guildenstern!\n",
        "Moreover that we much did long to see you,\n",
        "The need we have to use you did provoke\n",
        "Our hasty sending. Something have you heard\n",
        "Of Hamlet's transformation; so call it,\n",
        "Sith nor the exterior nor the inward man\n",
        "Resembles that it was. What it should be,\n",
        "More than his father's death, that thus hath put him\n",
        "So much from the understanding of himself,\n",
        "I cannot dream of: I entreat you both,\n",
        "That, being of so young days brought up with him,\n",
        "And sith so neighbour'd to his youth and havior,\n",
        "That you vouchsafe your rest here in our court\n",
        "Some little time: so by your companies\n",
        "To draw him on to pleasures, and to gather,\n",
        "So much as from occasion you may glean,\n",
        "Whether aught, to us unknown, afflicts him thus,\n",
        "That, open'd, lies within our remedy.\"\"\""
      ],
      "execution_count": null,
      "outputs": []
    },
    {
      "cell_type": "markdown",
      "metadata": {
        "deletable": false,
        "editable": false,
        "nbgrader": {
          "cell_type": "markdown",
          "checksum": "5ff95e98d7993220b5b491a4081c44c0",
          "grade": false,
          "grade_id": "cell-6dd8e7572f189eff",
          "locked": true,
          "schema_version": 3,
          "solution": false
        },
        "id": "D64kvU7XRXMg"
      },
      "source": [
        "Import the necessary modules:"
      ]
    },
    {
      "cell_type": "code",
      "metadata": {
        "deletable": false,
        "editable": false,
        "nbgrader": {
          "cell_type": "code",
          "checksum": "1f92d1231c21a688b037ef6d9cc9294a",
          "grade": false,
          "grade_id": "cell-93be06c0b8818e9e",
          "locked": true,
          "schema_version": 3,
          "solution": false
        },
        "id": "7l7pUlBzRXMg"
      },
      "source": [
        "import random\n",
        "import string\n",
        "import zlib"
      ],
      "execution_count": null,
      "outputs": []
    },
    {
      "cell_type": "markdown",
      "metadata": {
        "deletable": false,
        "editable": false,
        "nbgrader": {
          "cell_type": "markdown",
          "checksum": "79b8ee9892e83429e39f65d2e075fa45",
          "grade": false,
          "grade_id": "cell-6c9348155e28f467",
          "locked": true,
          "schema_version": 3,
          "solution": false
        },
        "id": "j_CF1vCXRXMi"
      },
      "source": [
        "Repeat the Shakespeare string 100 times, and compress:"
      ]
    },
    {
      "cell_type": "code",
      "metadata": {
        "deletable": false,
        "nbgrader": {
          "cell_type": "code",
          "checksum": "edac5251a56b1190fee5c9e7349d3f63",
          "grade": false,
          "grade_id": "cell-c08bb020d9be6620",
          "locked": false,
          "schema_version": 3,
          "solution": true
        },
        "id": "eDXaDa0hRXMi"
      },
      "source": [
        "# Create string of Shakespeare passage repeated 100 times\n",
        "repeated_text = ''\n",
        "for i in range(100):\n",
        "  repeated_text = repeated_text + text\n",
        "\n",
        "repeated_bytes = repeated_text.encode(\"utf-8\")\n",
        "compressed_repeated_text = zlib.compress(repeated_bytes)\n",
        "\n",
        "\n",
        "\n"
      ],
      "execution_count": 31,
      "outputs": []
    },
    {
      "cell_type": "markdown",
      "metadata": {
        "deletable": false,
        "editable": false,
        "nbgrader": {
          "cell_type": "markdown",
          "checksum": "16883ec26de137558d302ac47ad9743c",
          "grade": false,
          "grade_id": "cell-ea781714f8a7db87",
          "locked": true,
          "schema_version": 3,
          "solution": false
        },
        "id": "-paozKkfRXMk"
      },
      "source": [
        "Create random string and compress:"
      ]
    },
    {
      "cell_type": "code",
      "metadata": {
        "deletable": false,
        "nbgrader": {
          "cell_type": "code",
          "checksum": "b7442cbb06e29f3f3ca705b05487f55c",
          "grade": false,
          "grade_id": "cell-c5d8c07589ec3cd1",
          "locked": false,
          "schema_version": 3,
          "solution": true
        },
        "id": "N2ihs-TRRXMk"
      },
      "source": [
        "random_text = random_string(len(repeated_text))\n",
        "random_bytes = random_text.encode(\"utf-8\")\n",
        "compressed_random_text = zlib.compress(random_bytes)"
      ],
      "execution_count": 34,
      "outputs": []
    },
    {
      "cell_type": "markdown",
      "metadata": {
        "deletable": false,
        "editable": false,
        "nbgrader": {
          "cell_type": "markdown",
          "checksum": "c6cc082101b86f87ac9d8df2b18b307e",
          "grade": false,
          "grade_id": "cell-36c10b63438d6d4a",
          "locked": true,
          "schema_version": 3,
          "solution": false
        },
        "id": "Gu0poX12RXMm"
      },
      "source": [
        "Compare compression efficiency:"
      ]
    },
    {
      "cell_type": "code",
      "metadata": {
        "deletable": false,
        "nbgrader": {
          "cell_type": "code",
          "checksum": "66aa622e93c710b8a7ce0d6bcb6f5ff3",
          "grade": true,
          "grade_id": "cell-a2dd98ee370e22a3",
          "locked": false,
          "points": 0,
          "schema_version": 3,
          "solution": true
        },
        "id": "4ZKxx42lRXMm",
        "outputId": "81f8e054-7426-48d5-f71b-364530bf3bad",
        "colab": {
          "base_uri": "https://localhost:8080/",
          "height": 35
        }
      },
      "source": [
        "shakespeare_efficiency = str(round(100 - 100 * len(compressed_repeated_text) / len(repeated_text), 2)) + '%'\n",
        "random_efficiency = str(round(100 - 100 * len(compressed_random_text) / len(random_text), 2)) + '%'\n",
        "\n",
        "print('Shakespeare efficiency: {}; Random efficiency: {}'.format(shakespeare_efficiency, random_efficiency))"
      ],
      "execution_count": 40,
      "outputs": [
        {
          "output_type": "stream",
          "text": [
            "Shakespeare efficiency: 99.41%; Random efficiency: 24.8%\n"
          ],
          "name": "stdout"
        }
      ]
    }
  ]
}