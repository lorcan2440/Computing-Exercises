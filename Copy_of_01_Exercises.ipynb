{
  "nbformat": 4,
  "nbformat_minor": 0,
  "metadata": {
    "kernelspec": {
      "display_name": "Python 3",
      "language": "python",
      "name": "python3"
    },
    "language_info": {
      "codemirror_mode": {
        "name": "ipython",
        "version": 3
      },
      "file_extension": ".py",
      "mimetype": "text/x-python",
      "name": "python",
      "nbconvert_exporter": "python",
      "pygments_lexer": "ipython3",
      "version": "3.8.5"
    },
    "colab": {
      "name": "Copy of 01 Exercises.ipynb",
      "provenance": [],
      "include_colab_link": true
    }
  },
  "cells": [
    {
      "cell_type": "markdown",
      "metadata": {
        "id": "view-in-github",
        "colab_type": "text"
      },
      "source": [
        "<a href=\"https://colab.research.google.com/github/lorcan2440/Computing-Exercises/blob/main/Copy_of_01_Exercises.ipynb\" target=\"_parent\"><img src=\"https://colab.research.google.com/assets/colab-badge.svg\" alt=\"Open In Colab\"/></a>"
      ]
    },
    {
      "cell_type": "markdown",
      "metadata": {
        "id": "wc-sHyGbEMAn"
      },
      "source": [
        "## Exercise 01.1\n",
        "\n",
        "Degrees Fahrenheit ($T_F$) are converted to degrees Celsius ($T_c$) using the formula:\n",
        "\n",
        "$$\n",
        "T_c = 5(T_f - 32)/9\n",
        "$$\n",
        "\n",
        "Write a program to convert 78 degrees Fahrenheit to degrees Celsius and print the result.\n",
        "Write your program such that you can easily change the temperature in Fahrenheit that you are converting from.\n",
        "\n",
        "Use the variable name `T_c` for the temperature in degrees Celsius."
      ]
    },
    {
      "cell_type": "code",
      "metadata": {
        "deletable": false,
        "nbgrader": {
          "cell_type": "code",
          "checksum": "9aad06999d15d78fbcee70dcbca838c7",
          "grade": false,
          "grade_id": "cell-ca2d6af7fabf2918",
          "locked": false,
          "schema_version": 3,
          "solution": true
        },
        "id": "5MvBC5FMEMAo"
      },
      "source": [
        "T_f = 78\n",
        "T_c = 5*(T_f - 32)/9"
      ],
      "execution_count": null,
      "outputs": []
    },
    {
      "cell_type": "code",
      "metadata": {
        "deletable": false,
        "editable": false,
        "nbgrader": {
          "cell_type": "code",
          "checksum": "298ddee2ca0d1dd09bc995505dac5c63",
          "grade": true,
          "grade_id": "cell-a7542313c8cdf4ed",
          "locked": true,
          "points": 0,
          "schema_version": 3,
          "solution": false
        },
        "id": "82iZcYdXEMAv"
      },
      "source": [
        "assert round(T_c - 25.55555555555555, 10) == 0.0"
      ],
      "execution_count": null,
      "outputs": []
    },
    {
      "cell_type": "markdown",
      "metadata": {
        "id": "XdfHMomvEMAy"
      },
      "source": [
        "## Exercise 01.2\n",
        "\n",
        "You have been tasked with developing a mortgage affordability test tool. A component is to compute the monthly \n",
        "interest payments for a range of scenarios.\n",
        "\n",
        "Interest on a particular mortgage is charged at fixed rate above the Bank of England (BoE) 'official Bank Rate'. \n",
        "Interest is computed per annum, and interest payments spread equally over each month of the year.\n",
        "Write a program that computes the interest payable each month, with variables for:\n",
        "\n",
        "1. Loan principal (amount borrowed)\n",
        "1. Official Bank Rate (percentage, expressed per annum)\n",
        "1. Rate over the official Bank Rate (percentage, expressed per annum)\n",
        "\n",
        "Test your program with a loan principal of £150,000, BoE rate of 0.5%, and rate over the \n",
        "BoE rate of 1.49%. Use the variable name `interest` for the monthly interest amount."
      ]
    },
    {
      "cell_type": "code",
      "metadata": {
        "deletable": false,
        "nbgrader": {
          "cell_type": "code",
          "checksum": "c26b7adb39cb9665b26873573b1f0a6c",
          "grade": false,
          "grade_id": "cell-aaab53918bb9627d",
          "locked": false,
          "schema_version": 3,
          "solution": true
        },
        "id": "kxmunc0sEMAz"
      },
      "source": [
        "# Assign data to variables\n",
        "principal = 150000\n",
        "official_bank_rate = 0.5\n",
        "rate_over_bank_rate = 1.49\n",
        "rate = (official_bank_rate + rate_over_bank_rate)/100\n",
        "annual_interest = rate * principal\n",
        "interest = annual_interest / 12"
      ],
      "execution_count": null,
      "outputs": []
    },
    {
      "cell_type": "code",
      "metadata": {
        "deletable": false,
        "editable": false,
        "nbgrader": {
          "cell_type": "code",
          "checksum": "d01c1d6775e975163ba8b456945ee4bc",
          "grade": true,
          "grade_id": "cell-258e3a2c80f6a765",
          "locked": true,
          "points": 0,
          "schema_version": 3,
          "solution": false
        },
        "id": "c2pUytmsEMA3"
      },
      "source": [
        "assert round(interest - 248.75, 10) == 0.0"
      ],
      "execution_count": null,
      "outputs": []
    }
  ]
}